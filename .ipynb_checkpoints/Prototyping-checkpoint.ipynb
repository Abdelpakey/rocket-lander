{
 "cells": [
  {
   "cell_type": "code",
   "execution_count": 1,
   "metadata": {
    "collapsed": true
   },
   "outputs": [],
   "source": [
    "import numpy as np\n",
    "import math\n",
    "import itertools"
   ]
  },
  {
   "cell_type": "code",
   "execution_count": 2,
   "metadata": {
    "collapsed": true
   },
   "outputs": [],
   "source": [
    "DEGTORAD = math.pi/180\n",
    "Fs = [i/10 for i in range(-10,11,1)]\n",
    "Fe = [i/100 for i in range(0,105,5)]\n",
    "psi = [i*DEGTORAD for i in range(-15,16,1)]"
   ]
  },
  {
   "cell_type": "code",
   "execution_count": 3,
   "metadata": {
    "collapsed": true
   },
   "outputs": [],
   "source": [
    "action = []\n",
    "for f in Fe:\n",
    "    for p in psi:\n",
    "        action.append([f,p])"
   ]
  },
  {
   "cell_type": "code",
   "execution_count": 80,
   "metadata": {
    "collapsed": true
   },
   "outputs": [],
   "source": [
    "action.extend(Fs)"
   ]
  },
  {
   "cell_type": "code",
   "execution_count": 81,
   "metadata": {
    "collapsed": true
   },
   "outputs": [
    {
     "data": {
      "text/plain": [
       "672"
      ]
     },
     "execution_count": 81,
     "metadata": {},
     "output_type": "execute_result"
    }
   ],
   "source": [
    "len(action)"
   ]
  },
  {
   "cell_type": "code",
   "execution_count": 85,
   "metadata": {
    "collapsed": true
   },
   "outputs": [],
   "source": [
    "a,b = action[0]"
   ]
  },
  {
   "cell_type": "code",
   "execution_count": 39,
   "metadata": {
    "collapsed": true
   },
   "outputs": [],
   "source": [
    "action = []\n",
    "for f in Fe:\n",
    "    action.extend([f,p] for p in psi)\n",
    "action.extend(Fe)"
   ]
  },
  {
   "cell_type": "code",
   "execution_count": 70,
   "metadata": {
    "collapsed": true
   },
   "outputs": [],
   "source": [
    "action = list(map(lambda x: [[x,p] for p in psi], [f for f in Fe]))"
   ]
  },
  {
   "cell_type": "code",
   "execution_count": 77,
   "metadata": {
    "collapsed": true
   },
   "outputs": [
    {
     "data": {
      "text/plain": [
       "False"
      ]
     },
     "execution_count": 77,
     "metadata": {},
     "output_type": "execute_result"
    }
   ],
   "source": [
    "isinstance(action[670], list)"
   ]
  },
  {
   "cell_type": "markdown",
   "metadata": {
    "collapsed": true
   },
   "source": [
    "# Pickle Loading"
   ]
  },
  {
   "cell_type": "code",
   "execution_count": 25,
   "metadata": {
    "collapsed": true
   },
   "outputs": [],
   "source": [
    "%matplotlib inline\n",
    "import _pickle\n",
    "import pandas as pd\n",
    "import plotty\n",
    "import matplotlib.pyplot as plt"
   ]
  },
  {
   "cell_type": "code",
   "execution_count": 9,
   "metadata": {
    "collapsed": true
   },
   "outputs": [],
   "source": [
    "data = _pickle.load(open(\"C://Users//REUBS_LEN//PycharmProjects//RocketLanding//log.p\",'rb'))"
   ]
  },
  {
   "cell_type": "code",
   "execution_count": 19,
   "metadata": {
    "collapsed": true
   },
   "outputs": [],
   "source": [
    "reward = []\n",
    "theta = []\n",
    "for r,t in data:\n",
    "    reward.append(r)\n",
    "    theta.append(t)"
   ]
  },
  {
   "cell_type": "code",
   "execution_count": 26,
   "metadata": {
    "collapsed": true
   },
   "outputs": [
    {
     "data": {
      "text/plain": [
       "[<matplotlib.lines.Line2D at 0x29221e9d1d0>]"
      ]
     },
     "execution_count": 26,
     "metadata": {},
     "output_type": "execute_result"
    },
    {
     "data": {
      "image/png": "[encoded data removed]",
      "text/plain": [
       "<matplotlib.figure.Figure at 0x29221e3eac8>"
      ]
     },
     "metadata": {},
     "output_type": "display_data"
    }
   ],
   "source": [
    "fig = plt.figure()\n",
    "ax = fig.add_subplot(111)\n",
    "ax.plot(reward)"
   ]
  },
  {
   "cell_type": "markdown",
   "metadata": {
    "collapsed": true
   },
   "source": [
    "# Matrix Multiplication and Subtraction"
   ]
  },
  {
   "cell_type": "code",
   "execution_count": 1,
   "metadata": {
    "collapsed": true
   },
   "outputs": [],
   "source": [
    "import numpy as np"
   ]
  },
  {
   "cell_type": "code",
   "execution_count": 20,
   "metadata": {
    "collapsed": true
   },
   "outputs": [],
   "source": [
    "population = 100\n",
    "states = 8\n",
    "actions = 3\n",
    "\n",
    "weights = np.zeros((states, actions))\n",
    "rewards = np.random.rand(population)\n",
    "noise = np.random.rand(population, states, actions)\n",
    "standard_deviation = 0.1"
   ]
  },
  {
   "cell_type": "code",
   "execution_count": 21,
   "metadata": {
    "collapsed": true
   },
   "outputs": [
    {
     "data": {
      "text/plain": [
       "array([[ 0.,  0.,  0.],\n",
       "       [ 0.,  0.,  0.],\n",
       "       [ 0.,  0.,  0.],\n",
       "       [ 0.,  0.,  0.],\n",
       "       [ 0.,  0.,  0.],\n",
       "       [ 0.,  0.,  0.],\n",
       "       [ 0.,  0.,  0.],\n",
       "       [ 0.,  0.,  0.]])"
      ]
     },
     "execution_count": 21,
     "metadata": {},
     "output_type": "execute_result"
    }
   ],
   "source": [
    "weights"
   ]
  },
  {
   "cell_type": "code",
   "execution_count": 22,
   "metadata": {
    "collapsed": true
   },
   "outputs": [
    {
     "data": {
      "text/plain": [
       "0.29943408070378796"
      ]
     },
     "execution_count": 22,
     "metadata": {},
     "output_type": "execute_result"
    }
   ],
   "source": [
    "np.std(rewards)"
   ]
  },
  {
   "cell_type": "code",
   "execution_count": 23,
   "metadata": {
    "collapsed": true
   },
   "outputs": [],
   "source": [
    "weights_ = weights + noise[0]*standard_deviation"
   ]
  },
  {
   "cell_type": "code",
   "execution_count": 28,
   "metadata": {
    "collapsed": true
   },
   "outputs": [
    {
     "data": {
      "text/plain": [
       "(3, 8, 100)"
      ]
     },
     "execution_count": 28,
     "metadata": {},
     "output_type": "execute_result"
    }
   ],
   "source": [
    "noise.T.shape"
   ]
  },
  {
   "cell_type": "code",
   "execution_count": 27,
   "metadata": {
    "collapsed": true
   },
   "outputs": [
    {
     "data": {
      "text/plain": [
       "(3, 8)"
      ]
     },
     "execution_count": 27,
     "metadata": {},
     "output_type": "execute_result"
    }
   ],
   "source": [
    "np.dot(noise.T, rewards).shape"
   ]
  },
  {
   "cell_type": "code",
   "execution_count": 46,
   "metadata": {
    "collapsed": true
   },
   "outputs": [],
   "source": [
    "a = np.arange(2*2*3).reshape(2,2,3)"
   ]
  },
  {
   "cell_type": "code",
   "execution_count": 47,
   "metadata": {
    "collapsed": true
   },
   "outputs": [],
   "source": [
    "b = np.arange(2*2*3).reshape(2,2,3)"
   ]
  },
  {
   "cell_type": "code",
   "execution_count": 48,
   "metadata": {
    "collapsed": true
   },
   "outputs": [
    {
     "data": {
      "text/plain": [
       "array([[[ 0,  1,  2],\n",
       "        [ 3,  4,  5]],\n",
       "\n",
       "       [[ 6,  7,  8],\n",
       "        [ 9, 10, 11]]])"
      ]
     },
     "execution_count": 48,
     "metadata": {},
     "output_type": "execute_result"
    }
   ],
   "source": [
    "a"
   ]
  },
  {
   "cell_type": "code",
   "execution_count": 49,
   "metadata": {
    "collapsed": true
   },
   "outputs": [
    {
     "data": {
      "text/plain": [
       "array([[[ 0,  1,  2],\n",
       "        [ 3,  4,  5]],\n",
       "\n",
       "       [[ 6,  7,  8],\n",
       "        [ 9, 10, 11]]])"
      ]
     },
     "execution_count": 49,
     "metadata": {},
     "output_type": "execute_result"
    }
   ],
   "source": [
    "b"
   ]
  },
  {
   "cell_type": "code",
   "execution_count": 60,
   "metadata": {
    "collapsed": true
   },
   "outputs": [
    {
     "data": {
      "text/plain": [
       "array([[[[ 18,  24,  30],\n",
       "         [ 54,  60,  66]],\n",
       "\n",
       "        [[ 27,  39,  51],\n",
       "         [ 99, 111, 123]]],\n",
       "\n",
       "\n",
       "       [[[ 21,  29,  37],\n",
       "         [ 69,  77,  85]],\n",
       "\n",
       "        [[ 30,  44,  58],\n",
       "         [114, 128, 142]]],\n",
       "\n",
       "\n",
       "       [[[ 24,  34,  44],\n",
       "         [ 84,  94, 104]],\n",
       "\n",
       "        [[ 33,  49,  65],\n",
       "         [129, 145, 161]]]])"
      ]
     },
     "execution_count": 60,
     "metadata": {},
     "output_type": "execute_result"
    }
   ],
   "source": [
    "np.dot(a.T,b)"
   ]
  },
  {
   "cell_type": "code",
   "execution_count": 55,
   "metadata": {
    "collapsed": true
   },
   "outputs": [
    {
     "data": {
      "text/plain": [
       "array([[[ 0,  6],\n",
       "        [ 3,  9]],\n",
       "\n",
       "       [[ 1,  7],\n",
       "        [ 4, 10]],\n",
       "\n",
       "       [[ 2,  8],\n",
       "        [ 5, 11]]])"
      ]
     },
     "execution_count": 55,
     "metadata": {},
     "output_type": "execute_result"
    }
   ],
   "source": [
    "at = a.T\n",
    "at"
   ]
  },
  {
   "cell_type": "code",
   "execution_count": 56,
   "metadata": {
    "collapsed": true
   },
   "outputs": [
    {
     "data": {
      "text/plain": [
       "array([[18, 24, 30],\n",
       "       [27, 39, 51]])"
      ]
     },
     "execution_count": 56,
     "metadata": {},
     "output_type": "execute_result"
    }
   ],
   "source": [
    "np.dot(at[0], b[0])"
   ]
  },
  {
   "cell_type": "code",
   "execution_count": 57,
   "metadata": {
    "collapsed": true
   },
   "outputs": [
    {
     "data": {
      "text/plain": [
       "(3, 2, 2)"
      ]
     },
     "execution_count": 57,
     "metadata": {},
     "output_type": "execute_result"
    }
   ],
   "source": [
    "at.shape"
   ]
  },
  {
   "cell_type": "code",
   "execution_count": 58,
   "metadata": {
    "collapsed": true
   },
   "outputs": [
    {
     "data": {
      "text/plain": [
       "(2, 2, 3)"
      ]
     },
     "execution_count": 58,
     "metadata": {},
     "output_type": "execute_result"
    }
   ],
   "source": [
    "b.shape"
   ]
  },
  {
   "cell_type": "markdown",
   "metadata": {
    "collapsed": true
   },
   "source": [
    "# Numpy Tile and Time Varying Kinematics"
   ]
  },
  {
   "cell_type": "code",
   "execution_count": 1,
   "metadata": {
    "collapsed": true
   },
   "outputs": [],
   "source": [
    "import numpy as np"
   ]
  },
  {
   "cell_type": "code",
   "execution_count": 30,
   "metadata": {
    "collapsed": true
   },
   "outputs": [],
   "source": [
    "eps = 0.001"
   ]
  },
  {
   "cell_type": "code",
   "execution_count": 31,
   "metadata": {
    "collapsed": true
   },
   "outputs": [],
   "source": [
    "def swap_array_values(array, indices_to_swap):\n",
    "    for i, j in indices_to_swap:\n",
    "        array[i], array[j] = array[j], array[i]\n",
    "    return array"
   ]
  },
  {
   "cell_type": "code",
   "execution_count": 33,
   "metadata": {
    "collapsed": true
   },
   "outputs": [
    {
     "name": "stdout",
     "output_type": "stream",
     "text": [
      "[2, 3, 1, 4, 5, 6]\n"
     ]
    }
   ],
   "source": [
    "state = [1, 2, 3, 4, 5, 6]\n",
    "print(swap_array_values(state, [(0,1),(1,2)]))"
   ]
  },
  {
   "cell_type": "code",
   "execution_count": 43,
   "metadata": {
    "collapsed": true
   },
   "outputs": [
    {
     "data": {
      "text/plain": [
       "array([[2, 2, 2, 2, 2, 2],\n",
       "       [3, 3, 3, 3, 3, 3],\n",
       "       [1, 1, 1, 1, 1, 1],\n",
       "       [4, 4, 4, 4, 4, 4],\n",
       "       [5, 5, 5, 5, 5, 5],\n",
       "       [6, 6, 6, 6, 6, 6]])"
      ]
     },
     "execution_count": 43,
     "metadata": {},
     "output_type": "execute_result"
    }
   ],
   "source": [
    "np.tile(state, (6,1)).T"
   ]
  },
  {
   "cell_type": "code",
   "execution_count": 37,
   "metadata": {
    "collapsed": true
   },
   "outputs": [
    {
     "data": {
      "text/plain": [
       "array([[ 0.001,  0.   ,  0.   ,  0.   ,  0.   ,  0.   ],\n",
       "       [ 0.   ,  0.001,  0.   ,  0.   ,  0.   ,  0.   ],\n",
       "       [ 0.   ,  0.   ,  0.001,  0.   ,  0.   ,  0.   ],\n",
       "       [ 0.   ,  0.   ,  0.   ,  0.001,  0.   ,  0.   ],\n",
       "       [ 0.   ,  0.   ,  0.   ,  0.   ,  0.001,  0.   ],\n",
       "       [ 0.   ,  0.   ,  0.   ,  0.   ,  0.   ,  0.001]])"
      ]
     },
     "execution_count": 37,
     "metadata": {},
     "output_type": "execute_result"
    }
   ],
   "source": [
    "np.eye(6)*eps"
   ]
  },
  {
   "cell_type": "code",
   "execution_count": 47,
   "metadata": {
    "collapsed": true
   },
   "outputs": [
    {
     "data": {
      "text/plain": [
       "array([[ 0.,  0.,  0.,  0.,  0.,  0.],\n",
       "       [ 0.,  0.,  0.,  0.,  0.,  0.],\n",
       "       [ 0.,  0.,  0.,  0.,  0.,  0.],\n",
       "       [ 0.,  0.,  0.,  0.,  0.,  0.],\n",
       "       [ 0.,  0.,  0.,  0.,  0.,  0.],\n",
       "       [ 0.,  0.,  0.,  0.,  0.,  0.]])"
      ]
     },
     "execution_count": 47,
     "metadata": {},
     "output_type": "execute_result"
    }
   ],
   "source": [
    "tiled_state = np.tile(state, (6,1)).T\n",
    "x1 = tiled_state + np.eye(6)*eps\n",
    "x2 = tiled_state - np.eye(6)*eps\n",
    "x1.shape\n",
    "xnext = np.zeros(x1.shape)\n",
    "xnext"
   ]
  },
  {
   "cell_type": "code",
   "execution_count": 42,
   "metadata": {
    "collapsed": true
   },
   "outputs": [
    {
     "data": {
      "text/plain": [
       "array([[ 0.2  ,  0.1  ,  0.001],\n",
       "       [ 0.2  ,  0.1  ,  0.001],\n",
       "       [ 0.2  ,  0.1  ,  0.001],\n",
       "       [ 0.2  ,  0.1  ,  0.001],\n",
       "       [ 0.2  ,  0.1  ,  0.001],\n",
       "       [ 0.2  ,  0.1  ,  0.001]])"
      ]
     },
     "execution_count": 42,
     "metadata": {},
     "output_type": "execute_result"
    }
   ],
   "source": [
    "action = [0.2,0.1,0.001]\n",
    "np.tile(action, (6,1))"
   ]
  },
  {
   "cell_type": "code",
   "execution_count": null,
   "metadata": {
    "collapsed": true
   },
   "outputs": [],
   "source": [
    "uu = np.tile(action, (6,1))\n",
    "f1 = evaluate_kinematics(x1, uu)\n",
    "f2 = evaluate_kinematics(x2, uu)\n",
    "\n",
    "def evaluate_kinematics(state, actions):\n",
    "    Fe, Fs, psi = actions\n",
    "    theta = self.state[THETA]\n",
    "    # -----------------------------\n",
    "    ddot_x = (Fe * theta + Fe * psi + Fs) / MASS\n",
    "    ddot_y = (Fe - Fe * theta * psi - Fs * theta - MASS * GRAVITY) / MASS\n",
    "    ddot_theta = (Fe * psi * (L1 + LN) - L2 * Fs) / INERTIA\n",
    "    return ddot_x, ddot_y, ddot_theta"
   ]
  },
  {
   "cell_type": "code",
   "execution_count": null,
   "metadata": {
    "collapsed": true
   },
   "outputs": [],
   "source": [
    "f1 = self.plant_dynamics(x1, uu)\n",
    "f2 = self.plant_dynamics(x2, uu)\n",
    "A = (f1 - f2) / 2 / eps"
   ]
  },
  {
   "cell_type": "code",
   "execution_count": 49,
   "metadata": {
    "collapsed": true
   },
   "outputs": [],
   "source": [
    "s1 = [-0.0001814871123342803, 1.2166445136792732, -0.08513823673129081, -3.0468390464782713, 0.0005694212159141898, 0.009609001378218332, 0.0, 0.0]\n",
    "s2 = [-0.00035996870561079544, 1.2023621715198862, -0.08431581258773804, -3.064364941914876, 0.0011283052153885365, 0.010391778002182642, 0.0, 0.0]\n",
    "s3 = [-0.000551281553326231, 1.188042491566051, -0.08415119498968124, -3.0723668734232583, 0.0016457976307719946, 0.010588462154070536, 0.0, 0.0]"
   ]
  },
  {
   "cell_type": "markdown",
   "metadata": {},
   "source": [
    "# LQR"
   ]
  },
  {
   "cell_type": "code",
   "execution_count": 18,
   "metadata": {
    "collapsed": true
   },
   "outputs": [],
   "source": [
    "%matplotlib inline\n",
    "from matplotlib.pyplot import * # Grab MATLAB plotting functions\n",
    "from numpy import *\n",
    "from control.matlab import *    # MATLAB-like functions"
   ]
  },
  {
   "cell_type": "code",
   "execution_count": 138,
   "metadata": {
    "collapsed": true
   },
   "outputs": [
    {
     "data": {
      "image/png": "[encoded data removed]",
      "text/plain": [
       "<matplotlib.figure.Figure at 0x1c98b20c7f0>"
      ]
     },
     "metadata": {},
     "output_type": "display_data"
    }
   ],
   "source": [
    "m = 25.22\n",
    "l1 = 3.8667\n",
    "ls = 3.7\n",
    "ln = 0.189\n",
    "l = l1+ln\n",
    "I = 482.2956\n",
    "g = 9.81\n",
    "m_fuel = 1.261\n",
    "\n",
    "# State space dynamics\n",
    "xe = [0, 0, 0, 0, 0, 0];        # equilibrium point of interest\n",
    "ue = [m*g, 0, 0];               # (note these are lists, not matrices)\n",
    "\n",
    "# Dynamics matrix (use matrix type so that * works for multiplication)\n",
    "a = ue[0]*cos(xe[4])/m - ue[1]*sin(xe[4])/m - ue[2]*sin(xe[4])/m\n",
    "b = ue[0]*sin(xe[4])/m - ue[1]*cos(xe[4])/m - ue[2]*cos(xe[4])/m\n",
    "A = matrix(\n",
    "   [[ 0,    0,    0,    1,    0,    0],\n",
    "    [ 0,    0,    0,    0,    1,    0],\n",
    "    [ 0,    0,    0,    0,    0,    1],\n",
    "    [ 0,    0,    a,    0,    0,    0],\n",
    "    [ 0,    0,    b,    0,    0,    0],\n",
    "    [ 0,    0,    0,    0,    0,    0 ]])\n",
    "\n",
    "# Input matrix\n",
    "B = matrix(\n",
    "   [[0, 0, 0],\n",
    "    [0, 0, 0],\n",
    "    [0, 0, 0],\n",
    "    [sin(xe[4])/m, cos(xe[4])/m, cos(xe[4])/m],\n",
    "    [cos(xe[4])/m, -sin(xe[4])/m, -sin(xe[4])/m],\n",
    "    [0, -l1/I, ls/I]])\n",
    "\n",
    "# Output matrix \n",
    "C = matrix([[1, 0, 0, 0, 0, 0], [0, 1, 0, 0, 0, 0], [0, 0, 1, 0, 0, 0]])\n",
    "D = matrix([[0, 0, 0], [0, 0, 0], [0, 0, 0]])\n",
    "\n",
    "Qx1 = diag([1, 1, 1, 1, 1, 1]);\n",
    "Qu1a = 0.1*diag([1, 1, 1]);\n",
    "(K, X, E) = lqr(A, B, Qx1, Qu1a); K1a = matrix(K);\n",
    "\n",
    "xd = matrix([[1], [0], [0], [0], [0], [0]]); \n",
    "yd = matrix([[0], [1], [0], [0], [0], [0]]);  \n",
    "\n",
    "# Indices for the parts of the state that we want\n",
    "lat = (0,2,3,5);\n",
    "alt = (1,4);\n",
    "\n",
    "# Decoupled dynamics\n",
    "Ax = (A[lat, :])[:, lat];       #! not sure why I have to do it this way\n",
    "Bx = B[lat, 0]; Cx = C[0, lat]; Dx = D[0, 0];\n",
    " \n",
    "Ay = (A[alt, :])[:, alt];       #! not sure why I have to do it this way\n",
    "By = B[alt, 1]; Cy = C[1, alt]; Dy = D[1, 1];\n",
    "\n",
    "# Step response for the first input\n",
    "H1ax = ss(Ax - Bx*K1a[0,lat], Bx*K1a[0,lat]*xd[lat,:], Cx, Dx);\n",
    "(Tx, Yx) = step(H1ax, T=linspace(0,10,100));\n",
    "\n",
    "# Step response for the second input\n",
    "H1ay = ss(Ay - By*K1a[1,alt], By*K1a[1,alt]*yd[alt,:], Cy, Dy);\n",
    "(Ty, Yy) = step(H1ay, T=linspace(0,10,100));\n",
    "\n",
    "plot(Yx, Tx, '-', Yy, Ty, '--');\n",
    "plot([0, 10], [1, 1], 'k-');\n",
    "ylabel('position');\n",
    "legend(('x', 'y'), loc='lower right');"
   ]
  },
  {
   "cell_type": "code",
   "execution_count": 131,
   "metadata": {
    "collapsed": true
   },
   "outputs": [
    {
     "data": {
      "text/plain": [
       "matrix([[ 0.  ,  0.  ,  0.  ,  1.  ,  0.  ,  0.  ],\n",
       "        [ 0.  ,  0.  ,  0.  ,  0.  ,  1.  ,  0.  ],\n",
       "        [ 0.  ,  0.  ,  0.  ,  0.  ,  0.  ,  1.  ],\n",
       "        [ 0.  ,  0.  ,  9.81,  0.  ,  0.  ,  0.  ],\n",
       "        [ 0.  ,  0.  ,  0.  ,  0.  ,  0.  ,  0.  ],\n",
       "        [ 0.  ,  0.  ,  0.  ,  0.  ,  0.  ,  0.  ]])"
      ]
     },
     "execution_count": 131,
     "metadata": {},
     "output_type": "execute_result"
    }
   ],
   "source": [
    "A"
   ]
  },
  {
   "cell_type": "code",
   "execution_count": 132,
   "metadata": {
    "collapsed": true
   },
   "outputs": [
    {
     "data": {
      "image/png": "[encoded data removed]",
      "text/plain": [
       "<matplotlib.figure.Figure at 0x1c98b3fd358>"
      ]
     },
     "metadata": {},
     "output_type": "display_data"
    }
   ],
   "source": [
    "m = 4;                         # mass of aircraft\n",
    "J = 0.0475;                    # inertia around pitch axis\n",
    "r = 0.25;                      # distance to center of force\n",
    "g = 9.8;                       # gravitational constant\n",
    "c = 0.05;                      # damping factor (estimated)\n",
    "\n",
    "# State space dynamics\n",
    "xe = [0, 0, 0, 0, 0, 0];        # equilibrium point of interest\n",
    "ue = [0, m*g];                  # (note these are lists, not matrices)\n",
    "\n",
    "# Dynamics matrix (use matrix type so that * works for multiplication)\n",
    "A = matrix(\n",
    "   [[ 0,    0,    0,    1,    0,    0],\n",
    "    [ 0,    0,    0,    0,    1,    0],\n",
    "    [ 0,    0,    0,    0,    0,    1],\n",
    "    [ 0, 0, (-ue[0]*sin(xe[2]) - ue[1]*cos(xe[2]))/m, -c/m, 0, 0],\n",
    "    [ 0, 0, (ue[0]*cos(xe[2]) - ue[1]*sin(xe[2]))/m, 0, -c/m, 0],\n",
    "    [ 0,    0,    0,    0,    0,    0 ]])\n",
    "\n",
    "# Input matrix\n",
    "B = matrix(\n",
    "   [[0, 0], [0, 0], [0, 0],\n",
    "    [cos(xe[2])/m, -sin(xe[2])/m],\n",
    "    [sin(xe[2])/m,  cos(xe[2])/m],\n",
    "    [r/J, 0]])\n",
    "\n",
    "# Output matrix \n",
    "C = matrix([[1, 0, 0, 0, 0, 0], [0, 1, 0, 0, 0, 0]])\n",
    "D = matrix([[0, 0], [0, 0]])\n",
    "\n",
    "Qx1 = diag([1, 1, 1, 1, 1, 1]);\n",
    "Qu1a = diag([1, 1]);\n",
    "(K, X, E) = lqr(A, B, Qx1, Qu1a); K1a = matrix(K);\n",
    "\n",
    "xd = matrix([[1], [0], [0], [0], [0], [0]]); \n",
    "yd = matrix([[0], [1], [0], [0], [0], [0]]); \n",
    "\n",
    "# Indices for the parts of the state that we want\n",
    "lat = (0,2,3,5);\n",
    "alt = (1,4);\n",
    "\n",
    "# Decoupled dynamics\n",
    "Ax = (A[lat, :])[:, lat];       #! not sure why I have to do it this way\n",
    "Bx = B[lat, 0]; Cx = C[0, lat]; Dx = D[0, 0];\n",
    " \n",
    "Ay = (A[alt, :])[:, alt];       #! not sure why I have to do it this way\n",
    "By = B[alt, 1]; Cy = C[1, alt]; Dy = D[1, 1];\n",
    "\n",
    "# Step response for the first input\n",
    "H1ax = ss(Ax - Bx*K1a[0,lat], Bx*K1a[0,lat]*xd[lat,:], Cx, Dx);\n",
    "(Tx, Yx) = step(H1ax, T=linspace(0,10,100));\n",
    "\n",
    "# Step response for the second input\n",
    "H1ay = ss(Ay - By*K1a[1,alt], By*K1a[1,alt]*yd[alt,:], Cy, Dy);\n",
    "(Ty, Yy) = step(H1ay, T=linspace(0,10,100));\n",
    "\n",
    "plot(Yx, Tx, '-', Yy, Ty, '--');\n",
    "plot([0, 10], [1, 1], 'k-');\n",
    "ylabel('position');\n",
    "legend(('x', 'y'), loc='lower right');"
   ]
  },
  {
   "cell_type": "markdown",
   "metadata": {
    "collapsed": true
   },
   "source": [
    "# Polynomial Fit"
   ]
  },
  {
   "cell_type": "code",
   "execution_count": 3,
   "metadata": {
    "collapsed": true
   },
   "outputs": [],
   "source": [
    "%matplotlib inline\n",
    "import numpy as np\n",
    "import matplotlib.pyplot as plt"
   ]
  },
  {
   "cell_type": "code",
   "execution_count": 232,
   "metadata": {
    "collapsed": true
   },
   "outputs": [],
   "source": [
    "x = [16.5, 20]\n",
    "y = [6, 14]\n",
    "[a, b] = np.polyfit(x,y,deg=1)\n",
    "\n",
    "def fitPolyline(x, y, deg):\n",
    "    return np.polyfit(x,y,deg=deg)"
   ]
  },
  {
   "cell_type": "code",
   "execution_count": 34,
   "metadata": {
    "collapsed": true
   },
   "outputs": [],
   "source": [
    "xx = np.linspace(16, 20, 17)\n",
    "yy = (xx)*a + b"
   ]
  },
  {
   "cell_type": "code",
   "execution_count": 30,
   "metadata": {
    "collapsed": true
   },
   "outputs": [
    {
     "data": {
      "text/plain": [
       "[<matplotlib.lines.Line2D at 0x1bdb491cda0>]"
      ]
     },
     "execution_count": 30,
     "metadata": {},
     "output_type": "execute_result"
    },
    {
     "data": {
      "image/png": "[encoded data removed]",
      "text/plain": [
       "<matplotlib.figure.Figure at 0x1bdb48cffd0>"
      ]
     },
     "metadata": {},
     "output_type": "display_data"
    }
   ],
   "source": [
    "plt.plot(xx,yy)"
   ]
  },
  {
   "cell_type": "code",
   "execution_count": 226,
   "metadata": {
    "collapsed": true
   },
   "outputs": [
    {
     "data": {
      "text/plain": [
       "[<matplotlib.lines.Line2D at 0x1bdb928eba8>]"
      ]
     },
     "execution_count": 226,
     "metadata": {},
     "output_type": "execute_result"
    },
    {
     "data": {
      "image/png": "[encoded data removed]",
      "text/plain": [
       "<matplotlib.figure.Figure at 0x1bdb9193940>"
      ]
     },
     "metadata": {},
     "output_type": "display_data"
    }
   ],
   "source": [
    "x_time = np.arange(0,30,1/60)\n",
    "y_target_profile = 32*np.exp(-0.2*x_time)+6\n",
    "\n",
    "\n",
    "\n",
    "c = np.where(y==np.extract(y < 20, y)[0])[0][0]\n",
    "\n",
    "plt.plot(x_time[c:c+50],y_target_profile[c:c+50])"
   ]
  },
  {
   "cell_type": "code",
   "execution_count": 261,
   "metadata": {
    "collapsed": true
   },
   "outputs": [],
   "source": [
    "def guidance_target(state, final_x, y_profile, current_time_iteration, time_horizon, time_step, polyfit, state_len=6):\n",
    "    current_x, current_y, current_theta = state[0], state[1], state[4]\n",
    "\n",
    "    time_offset = current_time_iteration*time_step\n",
    "    targets = np.zeros((6, time_horizon-1))\n",
    "     \n",
    "    y_index = np.where(y_profile==np.extract(y_profile <= current_y, y_profile)[0])[0][0]\n",
    "\n",
    "    m,c = polyfit\n",
    "\n",
    "    alpha = 0.1\n",
    "    beta = 3\n",
    "    gamma = 0.5\n",
    "    y = current_y\n",
    "   \n",
    "    delta_t = [t*time_step for t in range(1, time_horizon)]\n",
    "    y = y_profile[y_index:y_index+time_horizon]\n",
    "    x =  (y-c)/m # y = mx + c\n",
    "    y_dot = -0.5*np.sqrt(abs(y))\n",
    "    x_dot = (x-final_x)\n",
    "   \n",
    "    theta = current_theta*np.exp(-beta*delta_t)\n",
    "    theta_dot = gamma*theta\n",
    "\n",
    "    targets = [x,y,x_dot,y_dot,theta,theta_dot]\n",
    "    return targets, delta_t"
   ]
  },
  {
   "cell_type": "code",
   "execution_count": 264,
   "metadata": {
    "collapsed": true
   },
   "outputs": [
    {
     "data": {
      "text/plain": [
       "array([ 0.10168063,  0.10338951,  0.10512711,  0.10689391,  0.1086904 ,\n",
       "        0.11051709,  0.11237448,  0.11426308,  0.11618342,  0.11813604,\n",
       "        0.12012147,  0.12214028,  0.12419301,  0.12628023,  0.12840254,\n",
       "        0.13056052,  0.13275476,  0.13498588,  0.1372545 ,  0.13956124,\n",
       "        0.14190675,  0.14429169,  0.1467167 ,  0.14918247,  0.15168968,\n",
       "        0.15423903,  0.15683122,  0.15946698,  0.16214703,  0.16487213,\n",
       "        0.16764302,  0.17046049,  0.1733253 ,  0.17623826,  0.17920018,\n",
       "        0.18221188,  0.18527419,  0.18838797,  0.19155408,  0.1947734 ,\n",
       "        0.19804683,  0.20137527,  0.20475965,  0.20820091,  0.2117    ,\n",
       "        0.2152579 ,  0.2188756 ,  0.22255409,  0.22629441])"
      ]
     },
     "execution_count": 264,
     "metadata": {},
     "output_type": "execute_result"
    }
   ],
   "source": [
    "state = [15,20,2,-2,0.1,0.1]\n",
    "targets, delta_t = guidance_target(state=state, final_x=16.5, y_profile=y_target_profile,\n",
    "                          current_time_iteration=200, time_horizon=50, time_step=1/60, polyfit=[a, b])"
   ]
  },
  {
   "cell_type": "markdown",
   "metadata": {
    "collapsed": true
   },
   "source": [
    "## Plotting"
   ]
  },
  {
   "cell_type": "code",
   "execution_count": 10,
   "metadata": {
    "collapsed": true
   },
   "outputs": [],
   "source": [
    "import seaborn as sns\n",
    "import pandas as pd"
   ]
  },
  {
   "cell_type": "code",
   "execution_count": 20,
   "metadata": {
    "collapsed": true
   },
   "outputs": [
    {
     "ename": "AssertionError",
     "evalue": "1 columns passed, passed data had 100 columns",
     "output_type": "error",
     "traceback": [
      "\u001b[1;31m---------------------------------------------------------------------------\u001b[0m",
      "\u001b[1;31mAssertionError\u001b[0m                            Traceback (most recent call last)",
      "\u001b[1;32m<ipython-input-20-c20f10f86e48>\u001b[0m in \u001b[0;36m<module>\u001b[1;34m()\u001b[0m\n\u001b[0;32m      1\u001b[0m \u001b[0mx\u001b[0m \u001b[1;33m=\u001b[0m \u001b[1;33m[\u001b[0m\u001b[0mi\u001b[0m \u001b[1;32mfor\u001b[0m \u001b[0mi\u001b[0m \u001b[1;32min\u001b[0m \u001b[0mrange\u001b[0m\u001b[1;33m(\u001b[0m\u001b[1;36m100\u001b[0m\u001b[1;33m)\u001b[0m\u001b[1;33m]\u001b[0m\u001b[1;33m\u001b[0m\u001b[0m\n\u001b[0;32m      2\u001b[0m \u001b[0my\u001b[0m \u001b[1;33m=\u001b[0m \u001b[1;33m[\u001b[0m\u001b[0mx\u001b[0m\u001b[1;33m**\u001b[0m\u001b[1;36m2\u001b[0m \u001b[1;32mfor\u001b[0m \u001b[0mx\u001b[0m \u001b[1;32min\u001b[0m \u001b[0mrange\u001b[0m\u001b[1;33m(\u001b[0m\u001b[1;36m100\u001b[0m\u001b[1;33m)\u001b[0m\u001b[1;33m]\u001b[0m\u001b[1;33m\u001b[0m\u001b[0m\n\u001b[1;32m----> 3\u001b[1;33m \u001b[0mdata\u001b[0m \u001b[1;33m=\u001b[0m \u001b[0mpd\u001b[0m\u001b[1;33m.\u001b[0m\u001b[0mDataFrame\u001b[0m\u001b[1;33m(\u001b[0m\u001b[1;33m[\u001b[0m\u001b[0my\u001b[0m\u001b[1;33m,\u001b[0m \u001b[0mx\u001b[0m\u001b[1;33m]\u001b[0m\u001b[1;33m,\u001b[0m \u001b[0mx\u001b[0m\u001b[1;33m,\u001b[0m \u001b[0mcolumns\u001b[0m\u001b[1;33m=\u001b[0m\u001b[1;33m[\u001b[0m\u001b[1;34m'y'\u001b[0m\u001b[1;33m]\u001b[0m\u001b[1;33m)\u001b[0m\u001b[1;33m\u001b[0m\u001b[0m\n\u001b[0m\u001b[0;32m      4\u001b[0m \u001b[0msns\u001b[0m\u001b[1;33m.\u001b[0m\u001b[0mlmplot\u001b[0m\u001b[1;33m(\u001b[0m\u001b[0mdata\u001b[0m\u001b[1;33m=\u001b[0m\u001b[0mdata\u001b[0m\u001b[1;33m)\u001b[0m\u001b[1;33m\u001b[0m\u001b[0m\n",
      "\u001b[1;32mC:\\Users\\REUBS_LEN\\Anaconda2\\envs\\TensorFlow_3.5\\lib\\site-packages\\pandas\\core\\frame.py\u001b[0m in \u001b[0;36m__init__\u001b[1;34m(self, data, index, columns, dtype, copy)\u001b[0m\n\u001b[0;32m    303\u001b[0m                     \u001b[1;32mif\u001b[0m \u001b[0mis_named_tuple\u001b[0m\u001b[1;33m(\u001b[0m\u001b[0mdata\u001b[0m\u001b[1;33m[\u001b[0m\u001b[1;36m0\u001b[0m\u001b[1;33m]\u001b[0m\u001b[1;33m)\u001b[0m \u001b[1;32mand\u001b[0m \u001b[0mcolumns\u001b[0m \u001b[1;32mis\u001b[0m \u001b[1;32mNone\u001b[0m\u001b[1;33m:\u001b[0m\u001b[1;33m\u001b[0m\u001b[0m\n\u001b[0;32m    304\u001b[0m                         \u001b[0mcolumns\u001b[0m \u001b[1;33m=\u001b[0m \u001b[0mdata\u001b[0m\u001b[1;33m[\u001b[0m\u001b[1;36m0\u001b[0m\u001b[1;33m]\u001b[0m\u001b[1;33m.\u001b[0m\u001b[0m_fields\u001b[0m\u001b[1;33m\u001b[0m\u001b[0m\n\u001b[1;32m--> 305\u001b[1;33m                     \u001b[0marrays\u001b[0m\u001b[1;33m,\u001b[0m \u001b[0mcolumns\u001b[0m \u001b[1;33m=\u001b[0m \u001b[0m_to_arrays\u001b[0m\u001b[1;33m(\u001b[0m\u001b[0mdata\u001b[0m\u001b[1;33m,\u001b[0m \u001b[0mcolumns\u001b[0m\u001b[1;33m,\u001b[0m \u001b[0mdtype\u001b[0m\u001b[1;33m=\u001b[0m\u001b[0mdtype\u001b[0m\u001b[1;33m)\u001b[0m\u001b[1;33m\u001b[0m\u001b[0m\n\u001b[0m\u001b[0;32m    306\u001b[0m                     \u001b[0mcolumns\u001b[0m \u001b[1;33m=\u001b[0m \u001b[0m_ensure_index\u001b[0m\u001b[1;33m(\u001b[0m\u001b[0mcolumns\u001b[0m\u001b[1;33m)\u001b[0m\u001b[1;33m\u001b[0m\u001b[0m\n\u001b[0;32m    307\u001b[0m \u001b[1;33m\u001b[0m\u001b[0m\n",
      "\u001b[1;32mC:\\Users\\REUBS_LEN\\Anaconda2\\envs\\TensorFlow_3.5\\lib\\site-packages\\pandas\\core\\frame.py\u001b[0m in \u001b[0;36m_to_arrays\u001b[1;34m(data, columns, coerce_float, dtype)\u001b[0m\n\u001b[0;32m   5517\u001b[0m     \u001b[1;32mif\u001b[0m \u001b[0misinstance\u001b[0m\u001b[1;33m(\u001b[0m\u001b[0mdata\u001b[0m\u001b[1;33m[\u001b[0m\u001b[1;36m0\u001b[0m\u001b[1;33m]\u001b[0m\u001b[1;33m,\u001b[0m \u001b[1;33m(\u001b[0m\u001b[0mlist\u001b[0m\u001b[1;33m,\u001b[0m \u001b[0mtuple\u001b[0m\u001b[1;33m)\u001b[0m\u001b[1;33m)\u001b[0m\u001b[1;33m:\u001b[0m\u001b[1;33m\u001b[0m\u001b[0m\n\u001b[0;32m   5518\u001b[0m         return _list_to_arrays(data, columns, coerce_float=coerce_float,\n\u001b[1;32m-> 5519\u001b[1;33m                                dtype=dtype)\n\u001b[0m\u001b[0;32m   5520\u001b[0m     \u001b[1;32melif\u001b[0m \u001b[0misinstance\u001b[0m\u001b[1;33m(\u001b[0m\u001b[0mdata\u001b[0m\u001b[1;33m[\u001b[0m\u001b[1;36m0\u001b[0m\u001b[1;33m]\u001b[0m\u001b[1;33m,\u001b[0m \u001b[0mcollections\u001b[0m\u001b[1;33m.\u001b[0m\u001b[0mMapping\u001b[0m\u001b[1;33m)\u001b[0m\u001b[1;33m:\u001b[0m\u001b[1;33m\u001b[0m\u001b[0m\n\u001b[0;32m   5521\u001b[0m         return _list_of_dict_to_arrays(data, columns,\n",
      "\u001b[1;32mC:\\Users\\REUBS_LEN\\Anaconda2\\envs\\TensorFlow_3.5\\lib\\site-packages\\pandas\\core\\frame.py\u001b[0m in \u001b[0;36m_list_to_arrays\u001b[1;34m(data, columns, coerce_float, dtype)\u001b[0m\n\u001b[0;32m   5596\u001b[0m         \u001b[0mcontent\u001b[0m \u001b[1;33m=\u001b[0m \u001b[0mlist\u001b[0m\u001b[1;33m(\u001b[0m\u001b[0mlib\u001b[0m\u001b[1;33m.\u001b[0m\u001b[0mto_object_array\u001b[0m\u001b[1;33m(\u001b[0m\u001b[0mdata\u001b[0m\u001b[1;33m)\u001b[0m\u001b[1;33m.\u001b[0m\u001b[0mT\u001b[0m\u001b[1;33m)\u001b[0m\u001b[1;33m\u001b[0m\u001b[0m\n\u001b[0;32m   5597\u001b[0m     return _convert_object_array(content, columns, dtype=dtype,\n\u001b[1;32m-> 5598\u001b[1;33m                                  coerce_float=coerce_float)\n\u001b[0m\u001b[0;32m   5599\u001b[0m \u001b[1;33m\u001b[0m\u001b[0m\n\u001b[0;32m   5600\u001b[0m \u001b[1;33m\u001b[0m\u001b[0m\n",
      "\u001b[1;32mC:\\Users\\REUBS_LEN\\Anaconda2\\envs\\TensorFlow_3.5\\lib\\site-packages\\pandas\\core\\frame.py\u001b[0m in \u001b[0;36m_convert_object_array\u001b[1;34m(content, columns, coerce_float, dtype)\u001b[0m\n\u001b[0;32m   5655\u001b[0m             \u001b[1;31m# caller's responsibility to check for this...\u001b[0m\u001b[1;33m\u001b[0m\u001b[1;33m\u001b[0m\u001b[0m\n\u001b[0;32m   5656\u001b[0m             raise AssertionError('%d columns passed, passed data had %s '\n\u001b[1;32m-> 5657\u001b[1;33m                                  'columns' % (len(columns), len(content)))\n\u001b[0m\u001b[0;32m   5658\u001b[0m \u001b[1;33m\u001b[0m\u001b[0m\n\u001b[0;32m   5659\u001b[0m     \u001b[1;31m# provide soft conversion of object dtypes\u001b[0m\u001b[1;33m\u001b[0m\u001b[1;33m\u001b[0m\u001b[0m\n",
      "\u001b[1;31mAssertionError\u001b[0m: 1 columns passed, passed data had 100 columns"
     ]
    }
   ],
   "source": [
    "x = [i for i in range(100)]\n",
    "y = [x**2 for x in range(100)]\n",
    "data = pd.DataFrame([y, x], x, columns=['y'])\n",
    "sns.lmplot(data=data)"
   ]
  },
  {
   "cell_type": "code",
   "execution_count": 7,
   "metadata": {
    "collapsed": true
   },
   "outputs": [],
   "source": [
    "df = sns.load_dataset(\"anscombe\")"
   ]
  },
  {
   "cell_type": "code",
   "execution_count": 16,
   "metadata": {
    "collapsed": true
   },
   "outputs": [],
   "source": [
    "tips = sns.load_dataset(\"tips\")"
   ]
  },
  {
   "cell_type": "code",
   "execution_count": 17,
   "metadata": {
    "collapsed": true
   },
   "outputs": [
    {
     "data": {
      "text/html": [
       "<div>\n",
       "<table border=\"1\" class=\"dataframe\">\n",
       "  <thead>\n",
       "    <tr style=\"text-align: right;\">\n",
       "      <th></th>\n",
       "      <th>total_bill</th>\n",
       "      <th>tip</th>\n",
       "      <th>sex</th>\n",
       "      <th>smoker</th>\n",
       "      <th>day</th>\n",
       "      <th>time</th>\n",
       "      <th>size</th>\n",
       "    </tr>\n",
       "  </thead>\n",
       "  <tbody>\n",
       "    <tr>\n",
       "      <th>0</th>\n",
       "      <td>16.99</td>\n",
       "      <td>1.01</td>\n",
       "      <td>Female</td>\n",
       "      <td>No</td>\n",
       "      <td>Sun</td>\n",
       "      <td>Dinner</td>\n",
       "      <td>2</td>\n",
       "    </tr>\n",
       "    <tr>\n",
       "      <th>1</th>\n",
       "      <td>10.34</td>\n",
       "      <td>1.66</td>\n",
       "      <td>Male</td>\n",
       "      <td>No</td>\n",
       "      <td>Sun</td>\n",
       "      <td>Dinner</td>\n",
       "      <td>3</td>\n",
       "    </tr>\n",
       "    <tr>\n",
       "      <th>2</th>\n",
       "      <td>21.01</td>\n",
       "      <td>3.50</td>\n",
       "      <td>Male</td>\n",
       "      <td>No</td>\n",
       "      <td>Sun</td>\n",
       "      <td>Dinner</td>\n",
       "      <td>3</td>\n",
       "    </tr>\n",
       "    <tr>\n",
       "      <th>3</th>\n",
       "      <td>23.68</td>\n",
       "      <td>3.31</td>\n",
       "      <td>Male</td>\n",
       "      <td>No</td>\n",
       "      <td>Sun</td>\n",
       "      <td>Dinner</td>\n",
       "      <td>2</td>\n",
       "    </tr>\n",
       "    <tr>\n",
       "      <th>4</th>\n",
       "      <td>24.59</td>\n",
       "      <td>3.61</td>\n",
       "      <td>Female</td>\n",
       "      <td>No</td>\n",
       "      <td>Sun</td>\n",
       "      <td>Dinner</td>\n",
       "      <td>4</td>\n",
       "    </tr>\n",
       "    <tr>\n",
       "      <th>5</th>\n",
       "      <td>25.29</td>\n",
       "      <td>4.71</td>\n",
       "      <td>Male</td>\n",
       "      <td>No</td>\n",
       "      <td>Sun</td>\n",
       "      <td>Dinner</td>\n",
       "      <td>4</td>\n",
       "    </tr>\n",
       "    <tr>\n",
       "      <th>6</th>\n",
       "      <td>8.77</td>\n",
       "      <td>2.00</td>\n",
       "      <td>Male</td>\n",
       "      <td>No</td>\n",
       "      <td>Sun</td>\n",
       "      <td>Dinner</td>\n",
       "      <td>2</td>\n",
       "    </tr>\n",
       "    <tr>\n",
       "      <th>7</th>\n",
       "      <td>26.88</td>\n",
       "      <td>3.12</td>\n",
       "      <td>Male</td>\n",
       "      <td>No</td>\n",
       "      <td>Sun</td>\n",
       "      <td>Dinner</td>\n",
       "      <td>4</td>\n",
       "    </tr>\n",
       "    <tr>\n",
       "      <th>8</th>\n",
       "      <td>15.04</td>\n",
       "      <td>1.96</td>\n",
       "      <td>Male</td>\n",
       "      <td>No</td>\n",
       "      <td>Sun</td>\n",
       "      <td>Dinner</td>\n",
       "      <td>2</td>\n",
       "    </tr>\n",
       "    <tr>\n",
       "      <th>9</th>\n",
       "      <td>14.78</td>\n",
       "      <td>3.23</td>\n",
       "      <td>Male</td>\n",
       "      <td>No</td>\n",
       "      <td>Sun</td>\n",
       "      <td>Dinner</td>\n",
       "      <td>2</td>\n",
       "    </tr>\n",
       "    <tr>\n",
       "      <th>10</th>\n",
       "      <td>10.27</td>\n",
       "      <td>1.71</td>\n",
       "      <td>Male</td>\n",
       "      <td>No</td>\n",
       "      <td>Sun</td>\n",
       "      <td>Dinner</td>\n",
       "      <td>2</td>\n",
       "    </tr>\n",
       "    <tr>\n",
       "      <th>11</th>\n",
       "      <td>35.26</td>\n",
       "      <td>5.00</td>\n",
       "      <td>Female</td>\n",
       "      <td>No</td>\n",
       "      <td>Sun</td>\n",
       "      <td>Dinner</td>\n",
       "      <td>4</td>\n",
       "    </tr>\n",
       "    <tr>\n",
       "      <th>12</th>\n",
       "      <td>15.42</td>\n",
       "      <td>1.57</td>\n",
       "      <td>Male</td>\n",
       "      <td>No</td>\n",
       "      <td>Sun</td>\n",
       "      <td>Dinner</td>\n",
       "      <td>2</td>\n",
       "    </tr>\n",
       "    <tr>\n",
       "      <th>13</th>\n",
       "      <td>18.43</td>\n",
       "      <td>3.00</td>\n",
       "      <td>Male</td>\n",
       "      <td>No</td>\n",
       "      <td>Sun</td>\n",
       "      <td>Dinner</td>\n",
       "      <td>4</td>\n",
       "    </tr>\n",
       "    <tr>\n",
       "      <th>14</th>\n",
       "      <td>14.83</td>\n",
       "      <td>3.02</td>\n",
       "      <td>Female</td>\n",
       "      <td>No</td>\n",
       "      <td>Sun</td>\n",
       "      <td>Dinner</td>\n",
       "      <td>2</td>\n",
       "    </tr>\n",
       "    <tr>\n",
       "      <th>15</th>\n",
       "      <td>21.58</td>\n",
       "      <td>3.92</td>\n",
       "      <td>Male</td>\n",
       "      <td>No</td>\n",
       "      <td>Sun</td>\n",
       "      <td>Dinner</td>\n",
       "      <td>2</td>\n",
       "    </tr>\n",
       "    <tr>\n",
       "      <th>16</th>\n",
       "      <td>10.33</td>\n",
       "      <td>1.67</td>\n",
       "      <td>Female</td>\n",
       "      <td>No</td>\n",
       "      <td>Sun</td>\n",
       "      <td>Dinner</td>\n",
       "      <td>3</td>\n",
       "    </tr>\n",
       "    <tr>\n",
       "      <th>17</th>\n",
       "      <td>16.29</td>\n",
       "      <td>3.71</td>\n",
       "      <td>Male</td>\n",
       "      <td>No</td>\n",
       "      <td>Sun</td>\n",
       "      <td>Dinner</td>\n",
       "      <td>3</td>\n",
       "    </tr>\n",
       "    <tr>\n",
       "      <th>18</th>\n",
       "      <td>16.97</td>\n",
       "      <td>3.50</td>\n",
       "      <td>Female</td>\n",
       "      <td>No</td>\n",
       "      <td>Sun</td>\n",
       "      <td>Dinner</td>\n",
       "      <td>3</td>\n",
       "    </tr>\n",
       "    <tr>\n",
       "      <th>19</th>\n",
       "      <td>20.65</td>\n",
       "      <td>3.35</td>\n",
       "      <td>Male</td>\n",
       "      <td>No</td>\n",
       "      <td>Sat</td>\n",
       "      <td>Dinner</td>\n",
       "      <td>3</td>\n",
       "    </tr>\n",
       "    <tr>\n",
       "      <th>20</th>\n",
       "      <td>17.92</td>\n",
       "      <td>4.08</td>\n",
       "      <td>Male</td>\n",
       "      <td>No</td>\n",
       "      <td>Sat</td>\n",
       "      <td>Dinner</td>\n",
       "      <td>2</td>\n",
       "    </tr>\n",
       "    <tr>\n",
       "      <th>21</th>\n",
       "      <td>20.29</td>\n",
       "      <td>2.75</td>\n",
       "      <td>Female</td>\n",
       "      <td>No</td>\n",
       "      <td>Sat</td>\n",
       "      <td>Dinner</td>\n",
       "      <td>2</td>\n",
       "    </tr>\n",
       "    <tr>\n",
       "      <th>22</th>\n",
       "      <td>15.77</td>\n",
       "      <td>2.23</td>\n",
       "      <td>Female</td>\n",
       "      <td>No</td>\n",
       "      <td>Sat</td>\n",
       "      <td>Dinner</td>\n",
       "      <td>2</td>\n",
       "    </tr>\n",
       "    <tr>\n",
       "      <th>23</th>\n",
       "      <td>39.42</td>\n",
       "      <td>7.58</td>\n",
       "      <td>Male</td>\n",
       "      <td>No</td>\n",
       "      <td>Sat</td>\n",
       "      <td>Dinner</td>\n",
       "      <td>4</td>\n",
       "    </tr>\n",
       "    <tr>\n",
       "      <th>24</th>\n",
       "      <td>19.82</td>\n",
       "      <td>3.18</td>\n",
       "      <td>Male</td>\n",
       "      <td>No</td>\n",
       "      <td>Sat</td>\n",
       "      <td>Dinner</td>\n",
       "      <td>2</td>\n",
       "    </tr>\n",
       "    <tr>\n",
       "      <th>25</th>\n",
       "      <td>17.81</td>\n",
       "      <td>2.34</td>\n",
       "      <td>Male</td>\n",
       "      <td>No</td>\n",
       "      <td>Sat</td>\n",
       "      <td>Dinner</td>\n",
       "      <td>4</td>\n",
       "    </tr>\n",
       "    <tr>\n",
       "      <th>26</th>\n",
       "      <td>13.37</td>\n",
       "      <td>2.00</td>\n",
       "      <td>Male</td>\n",
       "      <td>No</td>\n",
       "      <td>Sat</td>\n",
       "      <td>Dinner</td>\n",
       "      <td>2</td>\n",
       "    </tr>\n",
       "    <tr>\n",
       "      <th>27</th>\n",
       "      <td>12.69</td>\n",
       "      <td>2.00</td>\n",
       "      <td>Male</td>\n",
       "      <td>No</td>\n",
       "      <td>Sat</td>\n",
       "      <td>Dinner</td>\n",
       "      <td>2</td>\n",
       "    </tr>\n",
       "    <tr>\n",
       "      <th>28</th>\n",
       "      <td>21.70</td>\n",
       "      <td>4.30</td>\n",
       "      <td>Male</td>\n",
       "      <td>No</td>\n",
       "      <td>Sat</td>\n",
       "      <td>Dinner</td>\n",
       "      <td>2</td>\n",
       "    </tr>\n",
       "    <tr>\n",
       "      <th>29</th>\n",
       "      <td>19.65</td>\n",
       "      <td>3.00</td>\n",
       "      <td>Female</td>\n",
       "      <td>No</td>\n",
       "      <td>Sat</td>\n",
       "      <td>Dinner</td>\n",
       "      <td>2</td>\n",
       "    </tr>\n",
       "    <tr>\n",
       "      <th>...</th>\n",
       "      <td>...</td>\n",
       "      <td>...</td>\n",
       "      <td>...</td>\n",
       "      <td>...</td>\n",
       "      <td>...</td>\n",
       "      <td>...</td>\n",
       "      <td>...</td>\n",
       "    </tr>\n",
       "    <tr>\n",
       "      <th>214</th>\n",
       "      <td>28.17</td>\n",
       "      <td>6.50</td>\n",
       "      <td>Female</td>\n",
       "      <td>Yes</td>\n",
       "      <td>Sat</td>\n",
       "      <td>Dinner</td>\n",
       "      <td>3</td>\n",
       "    </tr>\n",
       "    <tr>\n",
       "      <th>215</th>\n",
       "      <td>12.90</td>\n",
       "      <td>1.10</td>\n",
       "      <td>Female</td>\n",
       "      <td>Yes</td>\n",
       "      <td>Sat</td>\n",
       "      <td>Dinner</td>\n",
       "      <td>2</td>\n",
       "    </tr>\n",
       "    <tr>\n",
       "      <th>216</th>\n",
       "      <td>28.15</td>\n",
       "      <td>3.00</td>\n",
       "      <td>Male</td>\n",
       "      <td>Yes</td>\n",
       "      <td>Sat</td>\n",
       "      <td>Dinner</td>\n",
       "      <td>5</td>\n",
       "    </tr>\n",
       "    <tr>\n",
       "      <th>217</th>\n",
       "      <td>11.59</td>\n",
       "      <td>1.50</td>\n",
       "      <td>Male</td>\n",
       "      <td>Yes</td>\n",
       "      <td>Sat</td>\n",
       "      <td>Dinner</td>\n",
       "      <td>2</td>\n",
       "    </tr>\n",
       "    <tr>\n",
       "      <th>218</th>\n",
       "      <td>7.74</td>\n",
       "      <td>1.44</td>\n",
       "      <td>Male</td>\n",
       "      <td>Yes</td>\n",
       "      <td>Sat</td>\n",
       "      <td>Dinner</td>\n",
       "      <td>2</td>\n",
       "    </tr>\n",
       "    <tr>\n",
       "      <th>219</th>\n",
       "      <td>30.14</td>\n",
       "      <td>3.09</td>\n",
       "      <td>Female</td>\n",
       "      <td>Yes</td>\n",
       "      <td>Sat</td>\n",
       "      <td>Dinner</td>\n",
       "      <td>4</td>\n",
       "    </tr>\n",
       "    <tr>\n",
       "      <th>220</th>\n",
       "      <td>12.16</td>\n",
       "      <td>2.20</td>\n",
       "      <td>Male</td>\n",
       "      <td>Yes</td>\n",
       "      <td>Fri</td>\n",
       "      <td>Lunch</td>\n",
       "      <td>2</td>\n",
       "    </tr>\n",
       "    <tr>\n",
       "      <th>221</th>\n",
       "      <td>13.42</td>\n",
       "      <td>3.48</td>\n",
       "      <td>Female</td>\n",
       "      <td>Yes</td>\n",
       "      <td>Fri</td>\n",
       "      <td>Lunch</td>\n",
       "      <td>2</td>\n",
       "    </tr>\n",
       "    <tr>\n",
       "      <th>222</th>\n",
       "      <td>8.58</td>\n",
       "      <td>1.92</td>\n",
       "      <td>Male</td>\n",
       "      <td>Yes</td>\n",
       "      <td>Fri</td>\n",
       "      <td>Lunch</td>\n",
       "      <td>1</td>\n",
       "    </tr>\n",
       "    <tr>\n",
       "      <th>223</th>\n",
       "      <td>15.98</td>\n",
       "      <td>3.00</td>\n",
       "      <td>Female</td>\n",
       "      <td>No</td>\n",
       "      <td>Fri</td>\n",
       "      <td>Lunch</td>\n",
       "      <td>3</td>\n",
       "    </tr>\n",
       "    <tr>\n",
       "      <th>224</th>\n",
       "      <td>13.42</td>\n",
       "      <td>1.58</td>\n",
       "      <td>Male</td>\n",
       "      <td>Yes</td>\n",
       "      <td>Fri</td>\n",
       "      <td>Lunch</td>\n",
       "      <td>2</td>\n",
       "    </tr>\n",
       "    <tr>\n",
       "      <th>225</th>\n",
       "      <td>16.27</td>\n",
       "      <td>2.50</td>\n",
       "      <td>Female</td>\n",
       "      <td>Yes</td>\n",
       "      <td>Fri</td>\n",
       "      <td>Lunch</td>\n",
       "      <td>2</td>\n",
       "    </tr>\n",
       "    <tr>\n",
       "      <th>226</th>\n",
       "      <td>10.09</td>\n",
       "      <td>2.00</td>\n",
       "      <td>Female</td>\n",
       "      <td>Yes</td>\n",
       "      <td>Fri</td>\n",
       "      <td>Lunch</td>\n",
       "      <td>2</td>\n",
       "    </tr>\n",
       "    <tr>\n",
       "      <th>227</th>\n",
       "      <td>20.45</td>\n",
       "      <td>3.00</td>\n",
       "      <td>Male</td>\n",
       "      <td>No</td>\n",
       "      <td>Sat</td>\n",
       "      <td>Dinner</td>\n",
       "      <td>4</td>\n",
       "    </tr>\n",
       "    <tr>\n",
       "      <th>228</th>\n",
       "      <td>13.28</td>\n",
       "      <td>2.72</td>\n",
       "      <td>Male</td>\n",
       "      <td>No</td>\n",
       "      <td>Sat</td>\n",
       "      <td>Dinner</td>\n",
       "      <td>2</td>\n",
       "    </tr>\n",
       "    <tr>\n",
       "      <th>229</th>\n",
       "      <td>22.12</td>\n",
       "      <td>2.88</td>\n",
       "      <td>Female</td>\n",
       "      <td>Yes</td>\n",
       "      <td>Sat</td>\n",
       "      <td>Dinner</td>\n",
       "      <td>2</td>\n",
       "    </tr>\n",
       "    <tr>\n",
       "      <th>230</th>\n",
       "      <td>24.01</td>\n",
       "      <td>2.00</td>\n",
       "      <td>Male</td>\n",
       "      <td>Yes</td>\n",
       "      <td>Sat</td>\n",
       "      <td>Dinner</td>\n",
       "      <td>4</td>\n",
       "    </tr>\n",
       "    <tr>\n",
       "      <th>231</th>\n",
       "      <td>15.69</td>\n",
       "      <td>3.00</td>\n",
       "      <td>Male</td>\n",
       "      <td>Yes</td>\n",
       "      <td>Sat</td>\n",
       "      <td>Dinner</td>\n",
       "      <td>3</td>\n",
       "    </tr>\n",
       "    <tr>\n",
       "      <th>232</th>\n",
       "      <td>11.61</td>\n",
       "      <td>3.39</td>\n",
       "      <td>Male</td>\n",
       "      <td>No</td>\n",
       "      <td>Sat</td>\n",
       "      <td>Dinner</td>\n",
       "      <td>2</td>\n",
       "    </tr>\n",
       "    <tr>\n",
       "      <th>233</th>\n",
       "      <td>10.77</td>\n",
       "      <td>1.47</td>\n",
       "      <td>Male</td>\n",
       "      <td>No</td>\n",
       "      <td>Sat</td>\n",
       "      <td>Dinner</td>\n",
       "      <td>2</td>\n",
       "    </tr>\n",
       "    <tr>\n",
       "      <th>234</th>\n",
       "      <td>15.53</td>\n",
       "      <td>3.00</td>\n",
       "      <td>Male</td>\n",
       "      <td>Yes</td>\n",
       "      <td>Sat</td>\n",
       "      <td>Dinner</td>\n",
       "      <td>2</td>\n",
       "    </tr>\n",
       "    <tr>\n",
       "      <th>235</th>\n",
       "      <td>10.07</td>\n",
       "      <td>1.25</td>\n",
       "      <td>Male</td>\n",
       "      <td>No</td>\n",
       "      <td>Sat</td>\n",
       "      <td>Dinner</td>\n",
       "      <td>2</td>\n",
       "    </tr>\n",
       "    <tr>\n",
       "      <th>236</th>\n",
       "      <td>12.60</td>\n",
       "      <td>1.00</td>\n",
       "      <td>Male</td>\n",
       "      <td>Yes</td>\n",
       "      <td>Sat</td>\n",
       "      <td>Dinner</td>\n",
       "      <td>2</td>\n",
       "    </tr>\n",
       "    <tr>\n",
       "      <th>237</th>\n",
       "      <td>32.83</td>\n",
       "      <td>1.17</td>\n",
       "      <td>Male</td>\n",
       "      <td>Yes</td>\n",
       "      <td>Sat</td>\n",
       "      <td>Dinner</td>\n",
       "      <td>2</td>\n",
       "    </tr>\n",
       "    <tr>\n",
       "      <th>238</th>\n",
       "      <td>35.83</td>\n",
       "      <td>4.67</td>\n",
       "      <td>Female</td>\n",
       "      <td>No</td>\n",
       "      <td>Sat</td>\n",
       "      <td>Dinner</td>\n",
       "      <td>3</td>\n",
       "    </tr>\n",
       "    <tr>\n",
       "      <th>239</th>\n",
       "      <td>29.03</td>\n",
       "      <td>5.92</td>\n",
       "      <td>Male</td>\n",
       "      <td>No</td>\n",
       "      <td>Sat</td>\n",
       "      <td>Dinner</td>\n",
       "      <td>3</td>\n",
       "    </tr>\n",
       "    <tr>\n",
       "      <th>240</th>\n",
       "      <td>27.18</td>\n",
       "      <td>2.00</td>\n",
       "      <td>Female</td>\n",
       "      <td>Yes</td>\n",
       "      <td>Sat</td>\n",
       "      <td>Dinner</td>\n",
       "      <td>2</td>\n",
       "    </tr>\n",
       "    <tr>\n",
       "      <th>241</th>\n",
       "      <td>22.67</td>\n",
       "      <td>2.00</td>\n",
       "      <td>Male</td>\n",
       "      <td>Yes</td>\n",
       "      <td>Sat</td>\n",
       "      <td>Dinner</td>\n",
       "      <td>2</td>\n",
       "    </tr>\n",
       "    <tr>\n",
       "      <th>242</th>\n",
       "      <td>17.82</td>\n",
       "      <td>1.75</td>\n",
       "      <td>Male</td>\n",
       "      <td>No</td>\n",
       "      <td>Sat</td>\n",
       "      <td>Dinner</td>\n",
       "      <td>2</td>\n",
       "    </tr>\n",
       "    <tr>\n",
       "      <th>243</th>\n",
       "      <td>18.78</td>\n",
       "      <td>3.00</td>\n",
       "      <td>Female</td>\n",
       "      <td>No</td>\n",
       "      <td>Thur</td>\n",
       "      <td>Dinner</td>\n",
       "      <td>2</td>\n",
       "    </tr>\n",
       "  </tbody>\n",
       "</table>\n",
       "<p>244 rows × 7 columns</p>\n",
       "</div>"
      ],
      "text/plain": [
       "     total_bill   tip     sex smoker   day    time  size\n",
       "0         16.99  1.01  Female     No   Sun  Dinner     2\n",
       "1         10.34  1.66    Male     No   Sun  Dinner     3\n",
       "2         21.01  3.50    Male     No   Sun  Dinner     3\n",
       "3         23.68  3.31    Male     No   Sun  Dinner     2\n",
       "4         24.59  3.61  Female     No   Sun  Dinner     4\n",
       "5         25.29  4.71    Male     No   Sun  Dinner     4\n",
       "6          8.77  2.00    Male     No   Sun  Dinner     2\n",
       "7         26.88  3.12    Male     No   Sun  Dinner     4\n",
       "8         15.04  1.96    Male     No   Sun  Dinner     2\n",
       "9         14.78  3.23    Male     No   Sun  Dinner     2\n",
       "10        10.27  1.71    Male     No   Sun  Dinner     2\n",
       "11        35.26  5.00  Female     No   Sun  Dinner     4\n",
       "12        15.42  1.57    Male     No   Sun  Dinner     2\n",
       "13        18.43  3.00    Male     No   Sun  Dinner     4\n",
       "14        14.83  3.02  Female     No   Sun  Dinner     2\n",
       "15        21.58  3.92    Male     No   Sun  Dinner     2\n",
       "16        10.33  1.67  Female     No   Sun  Dinner     3\n",
       "17        16.29  3.71    Male     No   Sun  Dinner     3\n",
       "18        16.97  3.50  Female     No   Sun  Dinner     3\n",
       "19        20.65  3.35    Male     No   Sat  Dinner     3\n",
       "20        17.92  4.08    Male     No   Sat  Dinner     2\n",
       "21        20.29  2.75  Female     No   Sat  Dinner     2\n",
       "22        15.77  2.23  Female     No   Sat  Dinner     2\n",
       "23        39.42  7.58    Male     No   Sat  Dinner     4\n",
       "24        19.82  3.18    Male     No   Sat  Dinner     2\n",
       "25        17.81  2.34    Male     No   Sat  Dinner     4\n",
       "26        13.37  2.00    Male     No   Sat  Dinner     2\n",
       "27        12.69  2.00    Male     No   Sat  Dinner     2\n",
       "28        21.70  4.30    Male     No   Sat  Dinner     2\n",
       "29        19.65  3.00  Female     No   Sat  Dinner     2\n",
       "..          ...   ...     ...    ...   ...     ...   ...\n",
       "214       28.17  6.50  Female    Yes   Sat  Dinner     3\n",
       "215       12.90  1.10  Female    Yes   Sat  Dinner     2\n",
       "216       28.15  3.00    Male    Yes   Sat  Dinner     5\n",
       "217       11.59  1.50    Male    Yes   Sat  Dinner     2\n",
       "218        7.74  1.44    Male    Yes   Sat  Dinner     2\n",
       "219       30.14  3.09  Female    Yes   Sat  Dinner     4\n",
       "220       12.16  2.20    Male    Yes   Fri   Lunch     2\n",
       "221       13.42  3.48  Female    Yes   Fri   Lunch     2\n",
       "222        8.58  1.92    Male    Yes   Fri   Lunch     1\n",
       "223       15.98  3.00  Female     No   Fri   Lunch     3\n",
       "224       13.42  1.58    Male    Yes   Fri   Lunch     2\n",
       "225       16.27  2.50  Female    Yes   Fri   Lunch     2\n",
       "226       10.09  2.00  Female    Yes   Fri   Lunch     2\n",
       "227       20.45  3.00    Male     No   Sat  Dinner     4\n",
       "228       13.28  2.72    Male     No   Sat  Dinner     2\n",
       "229       22.12  2.88  Female    Yes   Sat  Dinner     2\n",
       "230       24.01  2.00    Male    Yes   Sat  Dinner     4\n",
       "231       15.69  3.00    Male    Yes   Sat  Dinner     3\n",
       "232       11.61  3.39    Male     No   Sat  Dinner     2\n",
       "233       10.77  1.47    Male     No   Sat  Dinner     2\n",
       "234       15.53  3.00    Male    Yes   Sat  Dinner     2\n",
       "235       10.07  1.25    Male     No   Sat  Dinner     2\n",
       "236       12.60  1.00    Male    Yes   Sat  Dinner     2\n",
       "237       32.83  1.17    Male    Yes   Sat  Dinner     2\n",
       "238       35.83  4.67  Female     No   Sat  Dinner     3\n",
       "239       29.03  5.92    Male     No   Sat  Dinner     3\n",
       "240       27.18  2.00  Female    Yes   Sat  Dinner     2\n",
       "241       22.67  2.00    Male    Yes   Sat  Dinner     2\n",
       "242       17.82  1.75    Male     No   Sat  Dinner     2\n",
       "243       18.78  3.00  Female     No  Thur  Dinner     2\n",
       "\n",
       "[244 rows x 7 columns]"
      ]
     },
     "execution_count": 17,
     "metadata": {},
     "output_type": "execute_result"
    }
   ],
   "source": [
    "tips"
   ]
  },
  {
   "cell_type": "code",
   "execution_count": 19,
   "metadata": {
    "collapsed": true
   },
   "outputs": [
    {
     "data": {
      "text/html": [
       "<div>\n",
       "<table border=\"1\" class=\"dataframe\">\n",
       "  <thead>\n",
       "    <tr style=\"text-align: right;\">\n",
       "      <th></th>\n",
       "      <th>y</th>\n",
       "    </tr>\n",
       "  </thead>\n",
       "  <tbody>\n",
       "    <tr>\n",
       "      <th>0</th>\n",
       "      <td>0</td>\n",
       "    </tr>\n",
       "    <tr>\n",
       "      <th>1</th>\n",
       "      <td>1</td>\n",
       "    </tr>\n",
       "    <tr>\n",
       "      <th>2</th>\n",
       "      <td>4</td>\n",
       "    </tr>\n",
       "    <tr>\n",
       "      <th>3</th>\n",
       "      <td>9</td>\n",
       "    </tr>\n",
       "    <tr>\n",
       "      <th>4</th>\n",
       "      <td>16</td>\n",
       "    </tr>\n",
       "    <tr>\n",
       "      <th>5</th>\n",
       "      <td>25</td>\n",
       "    </tr>\n",
       "    <tr>\n",
       "      <th>6</th>\n",
       "      <td>36</td>\n",
       "    </tr>\n",
       "    <tr>\n",
       "      <th>7</th>\n",
       "      <td>49</td>\n",
       "    </tr>\n",
       "    <tr>\n",
       "      <th>8</th>\n",
       "      <td>64</td>\n",
       "    </tr>\n",
       "    <tr>\n",
       "      <th>9</th>\n",
       "      <td>81</td>\n",
       "    </tr>\n",
       "    <tr>\n",
       "      <th>10</th>\n",
       "      <td>100</td>\n",
       "    </tr>\n",
       "    <tr>\n",
       "      <th>11</th>\n",
       "      <td>121</td>\n",
       "    </tr>\n",
       "    <tr>\n",
       "      <th>12</th>\n",
       "      <td>144</td>\n",
       "    </tr>\n",
       "    <tr>\n",
       "      <th>13</th>\n",
       "      <td>169</td>\n",
       "    </tr>\n",
       "    <tr>\n",
       "      <th>14</th>\n",
       "      <td>196</td>\n",
       "    </tr>\n",
       "    <tr>\n",
       "      <th>15</th>\n",
       "      <td>225</td>\n",
       "    </tr>\n",
       "    <tr>\n",
       "      <th>16</th>\n",
       "      <td>256</td>\n",
       "    </tr>\n",
       "    <tr>\n",
       "      <th>17</th>\n",
       "      <td>289</td>\n",
       "    </tr>\n",
       "    <tr>\n",
       "      <th>18</th>\n",
       "      <td>324</td>\n",
       "    </tr>\n",
       "    <tr>\n",
       "      <th>19</th>\n",
       "      <td>361</td>\n",
       "    </tr>\n",
       "    <tr>\n",
       "      <th>20</th>\n",
       "      <td>400</td>\n",
       "    </tr>\n",
       "    <tr>\n",
       "      <th>21</th>\n",
       "      <td>441</td>\n",
       "    </tr>\n",
       "    <tr>\n",
       "      <th>22</th>\n",
       "      <td>484</td>\n",
       "    </tr>\n",
       "    <tr>\n",
       "      <th>23</th>\n",
       "      <td>529</td>\n",
       "    </tr>\n",
       "    <tr>\n",
       "      <th>24</th>\n",
       "      <td>576</td>\n",
       "    </tr>\n",
       "    <tr>\n",
       "      <th>25</th>\n",
       "      <td>625</td>\n",
       "    </tr>\n",
       "    <tr>\n",
       "      <th>26</th>\n",
       "      <td>676</td>\n",
       "    </tr>\n",
       "    <tr>\n",
       "      <th>27</th>\n",
       "      <td>729</td>\n",
       "    </tr>\n",
       "    <tr>\n",
       "      <th>28</th>\n",
       "      <td>784</td>\n",
       "    </tr>\n",
       "    <tr>\n",
       "      <th>29</th>\n",
       "      <td>841</td>\n",
       "    </tr>\n",
       "    <tr>\n",
       "      <th>...</th>\n",
       "      <td>...</td>\n",
       "    </tr>\n",
       "    <tr>\n",
       "      <th>70</th>\n",
       "      <td>4900</td>\n",
       "    </tr>\n",
       "    <tr>\n",
       "      <th>71</th>\n",
       "      <td>5041</td>\n",
       "    </tr>\n",
       "    <tr>\n",
       "      <th>72</th>\n",
       "      <td>5184</td>\n",
       "    </tr>\n",
       "    <tr>\n",
       "      <th>73</th>\n",
       "      <td>5329</td>\n",
       "    </tr>\n",
       "    <tr>\n",
       "      <th>74</th>\n",
       "      <td>5476</td>\n",
       "    </tr>\n",
       "    <tr>\n",
       "      <th>75</th>\n",
       "      <td>5625</td>\n",
       "    </tr>\n",
       "    <tr>\n",
       "      <th>76</th>\n",
       "      <td>5776</td>\n",
       "    </tr>\n",
       "    <tr>\n",
       "      <th>77</th>\n",
       "      <td>5929</td>\n",
       "    </tr>\n",
       "    <tr>\n",
       "      <th>78</th>\n",
       "      <td>6084</td>\n",
       "    </tr>\n",
       "    <tr>\n",
       "      <th>79</th>\n",
       "      <td>6241</td>\n",
       "    </tr>\n",
       "    <tr>\n",
       "      <th>80</th>\n",
       "      <td>6400</td>\n",
       "    </tr>\n",
       "    <tr>\n",
       "      <th>81</th>\n",
       "      <td>6561</td>\n",
       "    </tr>\n",
       "    <tr>\n",
       "      <th>82</th>\n",
       "      <td>6724</td>\n",
       "    </tr>\n",
       "    <tr>\n",
       "      <th>83</th>\n",
       "      <td>6889</td>\n",
       "    </tr>\n",
       "    <tr>\n",
       "      <th>84</th>\n",
       "      <td>7056</td>\n",
       "    </tr>\n",
       "    <tr>\n",
       "      <th>85</th>\n",
       "      <td>7225</td>\n",
       "    </tr>\n",
       "    <tr>\n",
       "      <th>86</th>\n",
       "      <td>7396</td>\n",
       "    </tr>\n",
       "    <tr>\n",
       "      <th>87</th>\n",
       "      <td>7569</td>\n",
       "    </tr>\n",
       "    <tr>\n",
       "      <th>88</th>\n",
       "      <td>7744</td>\n",
       "    </tr>\n",
       "    <tr>\n",
       "      <th>89</th>\n",
       "      <td>7921</td>\n",
       "    </tr>\n",
       "    <tr>\n",
       "      <th>90</th>\n",
       "      <td>8100</td>\n",
       "    </tr>\n",
       "    <tr>\n",
       "      <th>91</th>\n",
       "      <td>8281</td>\n",
       "    </tr>\n",
       "    <tr>\n",
       "      <th>92</th>\n",
       "      <td>8464</td>\n",
       "    </tr>\n",
       "    <tr>\n",
       "      <th>93</th>\n",
       "      <td>8649</td>\n",
       "    </tr>\n",
       "    <tr>\n",
       "      <th>94</th>\n",
       "      <td>8836</td>\n",
       "    </tr>\n",
       "    <tr>\n",
       "      <th>95</th>\n",
       "      <td>9025</td>\n",
       "    </tr>\n",
       "    <tr>\n",
       "      <th>96</th>\n",
       "      <td>9216</td>\n",
       "    </tr>\n",
       "    <tr>\n",
       "      <th>97</th>\n",
       "      <td>9409</td>\n",
       "    </tr>\n",
       "    <tr>\n",
       "      <th>98</th>\n",
       "      <td>9604</td>\n",
       "    </tr>\n",
       "    <tr>\n",
       "      <th>99</th>\n",
       "      <td>9801</td>\n",
       "    </tr>\n",
       "  </tbody>\n",
       "</table>\n",
       "<p>100 rows × 1 columns</p>\n",
       "</div>"
      ],
      "text/plain": [
       "       y\n",
       "0      0\n",
       "1      1\n",
       "2      4\n",
       "3      9\n",
       "4     16\n",
       "5     25\n",
       "6     36\n",
       "7     49\n",
       "8     64\n",
       "9     81\n",
       "10   100\n",
       "11   121\n",
       "12   144\n",
       "13   169\n",
       "14   196\n",
       "15   225\n",
       "16   256\n",
       "17   289\n",
       "18   324\n",
       "19   361\n",
       "20   400\n",
       "21   441\n",
       "22   484\n",
       "23   529\n",
       "24   576\n",
       "25   625\n",
       "26   676\n",
       "27   729\n",
       "28   784\n",
       "29   841\n",
       "..   ...\n",
       "70  4900\n",
       "71  5041\n",
       "72  5184\n",
       "73  5329\n",
       "74  5476\n",
       "75  5625\n",
       "76  5776\n",
       "77  5929\n",
       "78  6084\n",
       "79  6241\n",
       "80  6400\n",
       "81  6561\n",
       "82  6724\n",
       "83  6889\n",
       "84  7056\n",
       "85  7225\n",
       "86  7396\n",
       "87  7569\n",
       "88  7744\n",
       "89  7921\n",
       "90  8100\n",
       "91  8281\n",
       "92  8464\n",
       "93  8649\n",
       "94  8836\n",
       "95  9025\n",
       "96  9216\n",
       "97  9409\n",
       "98  9604\n",
       "99  9801\n",
       "\n",
       "[100 rows x 1 columns]"
      ]
     },
     "execution_count": 19,
     "metadata": {},
     "output_type": "execute_result"
    }
   ],
   "source": [
    "data"
   ]
  },
  {
   "cell_type": "code",
   "execution_count": 25,
   "metadata": {
    "collapsed": true
   },
   "outputs": [
    {
     "data": {
      "text/plain": [
       "111"
      ]
     },
     "execution_count": 25,
     "metadata": {},
     "output_type": "execute_result"
    }
   ],
   "source": [
    "import numpy as np\n",
    "\n",
    "int(str(1)+str(1)+str(1))"
   ]
  },
  {
   "cell_type": "code",
   "execution_count": 27,
   "metadata": {
    "collapsed": true
   },
   "outputs": [
    {
     "data": {
      "text/plain": [
       "<matplotlib.axes._subplots.AxesSubplot at 0x20c155f8358>"
      ]
     },
     "execution_count": 27,
     "metadata": {},
     "output_type": "execute_result"
    },
    {
     "data": {
      "image/png": "[encoded data removed]",
      "text/plain": [
       "<matplotlib.figure.Figure at 0x20c15629588>"
      ]
     },
     "metadata": {},
     "output_type": "display_data"
    }
   ],
   "source": [
    "%matplotlib inline\n",
    "import matplotlib.pyplot as plt\n",
    "\n",
    "flights_long = sns.load_dataset(\"flights\")\n",
    "flights = flights_long.pivot(\"month\", \"year\", \"passengers\")\n",
    "\n",
    "# Draw a heatmap with the numeric values in each cell\n",
    "f, ax = plt.subplots(figsize=(9, 6))\n",
    "sns.heatmap(flights, annot=True, fmt=\"d\", linewidths=.5, ax=ax)"
   ]
  },
  {
   "cell_type": "code",
   "execution_count": 29,
   "metadata": {
    "collapsed": true
   },
   "outputs": [],
   "source": [
    "flights = flights_long.pivot(\"month\", \"year\", \"passengers\")"
   ]
  },
  {
   "cell_type": "code",
   "execution_count": 35,
   "metadata": {
    "collapsed": true
   },
   "outputs": [
    {
     "data": {
      "text/html": [
       "<div>\n",
       "<table border=\"1\" class=\"dataframe\">\n",
       "  <thead>\n",
       "    <tr style=\"text-align: right;\">\n",
       "      <th></th>\n",
       "      <th>year</th>\n",
       "      <th>month</th>\n",
       "      <th>passengers</th>\n",
       "    </tr>\n",
       "  </thead>\n",
       "  <tbody>\n",
       "    <tr>\n",
       "      <th>0</th>\n",
       "      <td>1949</td>\n",
       "      <td>January</td>\n",
       "      <td>112</td>\n",
       "    </tr>\n",
       "    <tr>\n",
       "      <th>1</th>\n",
       "      <td>1949</td>\n",
       "      <td>February</td>\n",
       "      <td>118</td>\n",
       "    </tr>\n",
       "    <tr>\n",
       "      <th>2</th>\n",
       "      <td>1949</td>\n",
       "      <td>March</td>\n",
       "      <td>132</td>\n",
       "    </tr>\n",
       "    <tr>\n",
       "      <th>3</th>\n",
       "      <td>1949</td>\n",
       "      <td>April</td>\n",
       "      <td>129</td>\n",
       "    </tr>\n",
       "    <tr>\n",
       "      <th>4</th>\n",
       "      <td>1949</td>\n",
       "      <td>May</td>\n",
       "      <td>121</td>\n",
       "    </tr>\n",
       "  </tbody>\n",
       "</table>\n",
       "</div>"
      ],
      "text/plain": [
       "   year     month  passengers\n",
       "0  1949   January         112\n",
       "1  1949  February         118\n",
       "2  1949     March         132\n",
       "3  1949     April         129\n",
       "4  1949       May         121"
      ]
     },
     "execution_count": 35,
     "metadata": {},
     "output_type": "execute_result"
    }
   ],
   "source": [
    "flights_long.head()"
   ]
  },
  {
   "cell_type": "code",
   "execution_count": 36,
   "metadata": {
    "collapsed": true
   },
   "outputs": [
    {
     "data": {
      "text/html": [
       "<div>\n",
       "<table border=\"1\" class=\"dataframe\">\n",
       "  <thead>\n",
       "    <tr style=\"text-align: right;\">\n",
       "      <th>year</th>\n",
       "      <th>1949</th>\n",
       "      <th>1950</th>\n",
       "      <th>1951</th>\n",
       "      <th>1952</th>\n",
       "      <th>1953</th>\n",
       "      <th>1954</th>\n",
       "      <th>1955</th>\n",
       "      <th>1956</th>\n",
       "      <th>1957</th>\n",
       "      <th>1958</th>\n",
       "      <th>1959</th>\n",
       "      <th>1960</th>\n",
       "    </tr>\n",
       "    <tr>\n",
       "      <th>month</th>\n",
       "      <th></th>\n",
       "      <th></th>\n",
       "      <th></th>\n",
       "      <th></th>\n",
       "      <th></th>\n",
       "      <th></th>\n",
       "      <th></th>\n",
       "      <th></th>\n",
       "      <th></th>\n",
       "      <th></th>\n",
       "      <th></th>\n",
       "      <th></th>\n",
       "    </tr>\n",
       "  </thead>\n",
       "  <tbody>\n",
       "    <tr>\n",
       "      <th>January</th>\n",
       "      <td>112</td>\n",
       "      <td>115</td>\n",
       "      <td>145</td>\n",
       "      <td>171</td>\n",
       "      <td>196</td>\n",
       "      <td>204</td>\n",
       "      <td>242</td>\n",
       "      <td>284</td>\n",
       "      <td>315</td>\n",
       "      <td>340</td>\n",
       "      <td>360</td>\n",
       "      <td>417</td>\n",
       "    </tr>\n",
       "    <tr>\n",
       "      <th>February</th>\n",
       "      <td>118</td>\n",
       "      <td>126</td>\n",
       "      <td>150</td>\n",
       "      <td>180</td>\n",
       "      <td>196</td>\n",
       "      <td>188</td>\n",
       "      <td>233</td>\n",
       "      <td>277</td>\n",
       "      <td>301</td>\n",
       "      <td>318</td>\n",
       "      <td>342</td>\n",
       "      <td>391</td>\n",
       "    </tr>\n",
       "    <tr>\n",
       "      <th>March</th>\n",
       "      <td>132</td>\n",
       "      <td>141</td>\n",
       "      <td>178</td>\n",
       "      <td>193</td>\n",
       "      <td>236</td>\n",
       "      <td>235</td>\n",
       "      <td>267</td>\n",
       "      <td>317</td>\n",
       "      <td>356</td>\n",
       "      <td>362</td>\n",
       "      <td>406</td>\n",
       "      <td>419</td>\n",
       "    </tr>\n",
       "    <tr>\n",
       "      <th>April</th>\n",
       "      <td>129</td>\n",
       "      <td>135</td>\n",
       "      <td>163</td>\n",
       "      <td>181</td>\n",
       "      <td>235</td>\n",
       "      <td>227</td>\n",
       "      <td>269</td>\n",
       "      <td>313</td>\n",
       "      <td>348</td>\n",
       "      <td>348</td>\n",
       "      <td>396</td>\n",
       "      <td>461</td>\n",
       "    </tr>\n",
       "    <tr>\n",
       "      <th>May</th>\n",
       "      <td>121</td>\n",
       "      <td>125</td>\n",
       "      <td>172</td>\n",
       "      <td>183</td>\n",
       "      <td>229</td>\n",
       "      <td>234</td>\n",
       "      <td>270</td>\n",
       "      <td>318</td>\n",
       "      <td>355</td>\n",
       "      <td>363</td>\n",
       "      <td>420</td>\n",
       "      <td>472</td>\n",
       "    </tr>\n",
       "  </tbody>\n",
       "</table>\n",
       "</div>"
      ],
      "text/plain": [
       "year      1949  1950  1951  1952  1953  1954  1955  1956  1957  1958  1959  \\\n",
       "month                                                                        \n",
       "January    112   115   145   171   196   204   242   284   315   340   360   \n",
       "February   118   126   150   180   196   188   233   277   301   318   342   \n",
       "March      132   141   178   193   236   235   267   317   356   362   406   \n",
       "April      129   135   163   181   235   227   269   313   348   348   396   \n",
       "May        121   125   172   183   229   234   270   318   355   363   420   \n",
       "\n",
       "year      1960  \n",
       "month           \n",
       "January    417  \n",
       "February   391  \n",
       "March      419  \n",
       "April      461  \n",
       "May        472  "
      ]
     },
     "execution_count": 36,
     "metadata": {},
     "output_type": "execute_result"
    }
   ],
   "source": [
    "flights.head()"
   ]
  },
  {
   "cell_type": "markdown",
   "metadata": {
    "collapsed": true
   },
   "source": [
    "## Defining a cost function for the simulations"
   ]
  },
  {
   "cell_type": "code",
   "execution_count": 10,
   "metadata": {
    "collapsed": true
   },
   "outputs": [],
   "source": [
    "import numpy as np\n",
    "from constants import *"
   ]
  },
  {
   "cell_type": "code",
   "execution_count": 11,
   "metadata": {
    "collapsed": true
   },
   "outputs": [
    {
     "data": {
      "text/plain": [
       "45.110974274559844"
      ]
     },
     "execution_count": 11,
     "metadata": {},
     "output_type": "execute_result"
    }
   ],
   "source": [
    "s = [10, 1, 2, 2, 4, 5]\n",
    "s_max = [30, 2, 2, 3, 5, 7]\n",
    "ss = np.array(s_max)-np.array(s)\n",
    "G = np.eye(6)*5\n",
    "np.sqrt(np.dot(np.dot(ss,G), ss))"
   ]
  },
  {
   "cell_type": "code",
   "execution_count": 12,
   "metadata": {
    "collapsed": true
   },
   "outputs": [
    {
     "data": {
      "text/plain": [
       "array([ 0.66666667,  0.5       ,  0.        ,  0.33333333,  0.2       ,\n",
       "        0.28571429])"
      ]
     },
     "execution_count": 12,
     "metadata": {},
     "output_type": "execute_result"
    }
   ],
   "source": [
    "(ss/np.array(s_max))"
   ]
  },
  {
   "cell_type": "code",
   "execution_count": 43,
   "metadata": {
    "collapsed": true
   },
   "outputs": [
    {
     "name": "stdout",
     "output_type": "stream",
     "text": [
      "-10.0\n"
     ]
    }
   ],
   "source": [
    "state = [0,0,0,0,0,0]\n",
    "\n",
    "untransformed_state = False\n",
    "\n",
    "len_state = len(state)\n",
    "cost_matrix = np.ones(len_state)*5\n",
    "cost_matrix[XX] = 10\n",
    "cost_matrix[X_DOT] = 10\n",
    "cost_matrix[THETA_DOT] = 10\n",
    "\n",
    "if untransformed_state is False:\n",
    "    state_target = np.zeros(len_state)\n",
    "\n",
    "ss = (state_target-abs(np.array(state)))\n",
    "print(np.dot(ss,cost_matrix))"
   ]
  },
  {
   "cell_type": "code",
   "execution_count": 44,
   "metadata": {
    "collapsed": true
   },
   "outputs": [],
   "source": [
    "s.append(120)"
   ]
  },
  {
   "cell_type": "code",
   "execution_count": 45,
   "metadata": {
    "collapsed": true
   },
   "outputs": [
    {
     "data": {
      "text/plain": [
       "[10, 1, 2, 2, 4, 5, 120]"
      ]
     },
     "execution_count": 45,
     "metadata": {},
     "output_type": "execute_result"
    }
   ],
   "source": [
    "s\n"
   ]
  },
  {
   "cell_type": "code",
   "execution_count": 61,
   "metadata": {
    "collapsed": true
   },
   "outputs": [],
   "source": [
    "state_history = [[None]*4]*6"
   ]
  },
  {
   "cell_type": "code",
   "execution_count": 62,
   "metadata": {
    "collapsed": true
   },
   "outputs": [],
   "source": [
    "state_history[1] = [3]"
   ]
  },
  {
   "cell_type": "code",
   "execution_count": 63,
   "metadata": {
    "collapsed": true
   },
   "outputs": [],
   "source": [
    "state_history[1].append(3)"
   ]
  },
  {
   "cell_type": "code",
   "execution_count": 64,
   "metadata": {
    "collapsed": true
   },
   "outputs": [
    {
     "data": {
      "text/plain": [
       "[[None, None, None, None],\n",
       " [3, 3],\n",
       " [None, None, None, None],\n",
       " [None, None, None, None],\n",
       " [None, None, None, None],\n",
       " [None, None, None, None]]"
      ]
     },
     "execution_count": 64,
     "metadata": {},
     "output_type": "execute_result"
    }
   ],
   "source": [
    "state_history"
   ]
  },
  {
   "cell_type": "code",
   "execution_count": 66,
   "metadata": {
    "collapsed": true
   },
   "outputs": [
    {
     "name": "stdout",
     "output_type": "stream",
     "text": [
      "False\n",
      "False\n",
      "False\n",
      "False\n"
     ]
    }
   ],
   "source": [
    "for i in range(4):\n",
    "    print(i == 4)"
   ]
  },
  {
   "cell_type": "code",
   "execution_count": 117,
   "metadata": {
    "collapsed": true
   },
   "outputs": [],
   "source": [
    "number_of_tests = 3\n",
    "state_history = [[] for _ in range(number_of_tests)]\n",
    "all_results = [[None]]*number_of_tests"
   ]
  },
  {
   "cell_type": "code",
   "execution_count": 120,
   "metadata": {
    "collapsed": true
   },
   "outputs": [],
   "source": [
    "state_history[1].append([2,35,67,7])"
   ]
  },
  {
   "cell_type": "code",
   "execution_count": 124,
   "metadata": {
    "collapsed": true
   },
   "outputs": [],
   "source": [
    "state_history = [[]]"
   ]
  },
  {
   "cell_type": "code",
   "execution_count": 125,
   "metadata": {
    "collapsed": true
   },
   "outputs": [],
   "source": [
    "state_history.append(2)"
   ]
  },
  {
   "cell_type": "code",
   "execution_count": 127,
   "metadata": {
    "collapsed": true
   },
   "outputs": [
    {
     "data": {
      "text/plain": [
       "[[], 2]"
      ]
     },
     "execution_count": 127,
     "metadata": {},
     "output_type": "execute_result"
    }
   ],
   "source": [
    "state_history"
   ]
  },
  {
   "cell_type": "code",
   "execution_count": 145,
   "metadata": {
    "collapsed": true
   },
   "outputs": [],
   "source": [
    "state_history = [[] for _ in range(number_of_tests)]"
   ]
  },
  {
   "cell_type": "code",
   "execution_count": 152,
   "metadata": {
    "collapsed": true
   },
   "outputs": [],
   "source": [
    "state_history[1].append([123,12])"
   ]
  },
  {
   "cell_type": "code",
   "execution_count": 155,
   "metadata": {
    "collapsed": false
   },
   "outputs": [
    {
     "ename": "NameError",
     "evalue": "name 'final_state_history' is not defined",
     "output_type": "error",
     "traceback": [
      "\u001b[1;31m---------------------------------------------------------------------------\u001b[0m",
      "\u001b[1;31mNameError\u001b[0m                                 Traceback (most recent call last)",
      "\u001b[1;32m<ipython-input-155-0a27baea8856>\u001b[0m in \u001b[0;36m<module>\u001b[1;34m()\u001b[0m\n\u001b[0;32m      2\u001b[0m     \u001b[1;32mreturn\u001b[0m \u001b[1;33m[\u001b[0m\u001b[0mrow\u001b[0m\u001b[1;33m[\u001b[0m\u001b[0mi\u001b[0m\u001b[1;33m]\u001b[0m \u001b[1;32mfor\u001b[0m \u001b[0mrow\u001b[0m \u001b[1;32min\u001b[0m \u001b[0mmatrix\u001b[0m\u001b[1;33m]\u001b[0m\u001b[1;33m\u001b[0m\u001b[0m\n\u001b[0;32m      3\u001b[0m \u001b[1;33m\u001b[0m\u001b[0m\n\u001b[1;32m----> 4\u001b[1;33m \u001b[0mxx\u001b[0m \u001b[1;33m=\u001b[0m \u001b[0mcolumn\u001b[0m\u001b[1;33m(\u001b[0m\u001b[0mfinal_state_history\u001b[0m\u001b[1;33m[\u001b[0m\u001b[1;36m0\u001b[0m\u001b[1;33m]\u001b[0m\u001b[1;33m,\u001b[0m \u001b[1;36m0\u001b[0m\u001b[1;33m)\u001b[0m\u001b[1;33m\u001b[0m\u001b[0m\n\u001b[0m",
      "\u001b[1;31mNameError\u001b[0m: name 'final_state_history' is not defined"
     ]
    }
   ],
   "source": [
    "def column(matrix, i):\n",
    "    return [row[i] for row in matrix]\n",
    "\n",
    "xx = column(final_state_history[0], 0)\n"
   ]
  },
  {
   "cell_type": "markdown",
   "metadata": {},
   "source": [
    "# Stats"
   ]
  },
  {
   "cell_type": "code",
   "execution_count": 175,
   "metadata": {
    "collapsed": true
   },
   "outputs": [],
   "source": [
    "action_history = [[[0, 0.0, 0.0], [0.59999999999999998, 0.0, -0.47799408435821533], [0.59999999999999998, 0.0, -0.16517150402069092], [0.59999999999999998, 0.0, -0.18865762650966644], [0.59999999999999998, 0.0, -0.14994177222251892], [0.59999999999999998, 0.0, -0.15115197002887726], [0.59999999999999998, 0.0, -0.2115126997232437], [0.59999999999999998, 0.0, -0.07402049005031586], [0.59999999999999998, 0.0, 0.05592592805624008], [0.59999999999999998, 0.0, 0.10311020165681839], [0.59999999999999998, 0.0, 0.02641720324754715], [0.59999999999999998, 0.0, 0.048317354172468185], [0.59999999999999998, 0.0, -0.05389710143208504], [0.59999999999999998, 0.0, -0.0793558806180954], [0.59999999999999998, 0.0, 0.06128425523638725], [0.59999999999999998, 0.0, 0.15490691363811493], [0.59999999999999998, 0.0, 0.16173015534877777], [0.59999999999999998, 0.0, 0.03945809230208397], [0.59999999999999998, 0.0, -0.13208986818790436], [0.59999999999999998, 0.0, -0.066492959856987], [0.59999999999999998, 0.0, -0.10009486228227615], [0.59999999999999998, 0.0, -0.1276346743106842], [0.59999999999999998, 0.0, -0.17402668297290802], [0.59999999999999998, 0.0, -0.2027120143175125], [0.59999999999999998, 0.0, -0.13976307213306427], [0.59999999999999998, 0.0, 0.008274690248072147], [0.59999999999999998, 0.0, 0.10261110216379166], [0.59999999999999998, 0.0, -0.04644274339079857], [0.59999999999999998, 0.0, -0.13511501252651215], [0.59999999999999998, 0.0, -0.1712658405303955], [0.59999999999999998, 0.0, -0.01600479707121849], [0.59999999999999998, 0.0, -0.05648398771882057], [0.59999999999999998, 0.0, 0.083188496530056], [0.59999999999999998, 0.0, -0.060426078736782074], [0.59999999999999998, 0.0, 0.0824713483452797], [0.59999999999999998, 0.0, -0.09805798530578613], [0.59999999999999998, 0.0, 0.08268459886312485], [0.59999999999999998, 0.0, 0.08695333451032639], [0.59999999999999998, 0.0, 0.0562482587993145], [0.59999999999999998, 0.0, 0.011679916642606258], [0.59999999999999998, 0.0, -0.09729230403900146], [0.59999999999999998, 0.0, -0.11989106237888336], [0.59999999999999998, 0.0, -0.10685116052627563], [0.59999999999999998, 0.0, -0.03389851748943329], [0.59999999999999998, 0.0, -0.10559383779764175], [0.59999999999999998, 0.0, -0.034053053706884384], [0.59999999999999998, 0.0, -0.11134592443704605], [0.59999999999999998, 0.0, 0.031874965876340866], [0.59999999999999998, 0.0, 0.06669794023036957], [0.59999999999999998, 0.0, -0.03250322863459587], [0.59999999999999998, 0.0, 0.03614399582147598], [0.59999999999999998, 0.0, 0.12132084369659424], [0.59999999999999998, 0.0, -0.07182041555643082], [0.59999999999999998, 0.0, -0.08987549692392349], [0.59999999999999998, 0.0, -0.020224016159772873], [0.59999999999999998, 0.0, -0.14639857411384583], [0.59999999999999998, 0.0, -0.18708257377147675], [0.59999999999999998, 0.0, -0.19283071160316467], [0.59999999999999998, 0.0, -0.25465458631515503], [0.59999999999999998, 0.0, -0.31199151277542114], [0.59999999999999998, 0.0, -0.0926559716463089], [0.59999999999999998, 0.0, -0.13728958368301392], [0.59999999999999998, 0.0, 0.03060111030936241], [0.59999999999999998, 0.0, 0.0827598124742508], [0.59999999999999998, 0.0, 0.11059381812810898], [0.59999999999999998, 0.0, 0.003018259769305587], [0.59999999999999998, 0.0, -0.0603581927716732], [0.59999999999999998, 0.0, -0.031703658401966095], [0.59999999999999998, 0.0, 0.06461235135793686], [0, 0.0, -0.010168995708227158], [0.59999999999999998, 0.0, -0.009691544808447361], [0.59999999999999998, 0.0, -0.11411779373884201], [0, 0.0, -0.026508614420890808], [0.59999999999999998, 0.0, -0.02681257762014866], [0.59999999999999998, 0.0, -0.0024359466042369604], [0.59999999999999998, 0.0, -0.0961732566356659], [0.59999999999999998, 0.0, -0.14316406846046448], [0, 0.0, -0.18670439720153809], [0.59999999999999998, 0.0, -0.18731583654880524], [0.59999999999999998, 0.0, -0.06373119354248047], [0.59999999999999998, 0.0, -0.030045976862311363], [0.59999999999999998, 0.0, -0.016002144664525986], [0, 0.0, -0.11069048941135406], [0.38716452365922738, 0.0, -0.11073026061058044], [0, 0.0, -0.1402805596590042], [0.59999999999999998, 0.0, -0.1406497210264206], [0.59999999999999998, 0.0, 0.009312175214290619], [0, 0.0, 0.09061980247497559], [0.59999999999999998, 0.0, 0.09120281040668488], [0.59999999999999998, 0.0, -0.04997330531477928], [0, 0.0, 0.008806610479950905], [0.59999999999999998, 0.0, 0.00876071210950613], [0, 0.0, -0.09287986159324646], [0.59999999999999998, 0.0, -0.09285444766283035], [0, 0.0, 0.0031099545303732157], [0.59999999999999998, 0.0, 0.0030844907741993666], [0, 0.0, 0.10442059487104416], [0.59999999999999998, 0.0, 0.1048312708735466], [0.52831247159331374, 0.0, 0.00800747238099575], [0, 0.0, -0.09541741013526917], [0.59999999999999998, 0.0, -0.09545998275279999], [0, 0.0, -0.09085836261510849], [0.59999999999999998, 0.0, -0.09110745787620544], [0.59999999999999998, 0.0, -0.001549546723254025], [0, 0.51214903262657518, -0.09978893399238586], [0, 0.0, -0.07707469910383224], [0.59999999999999998, 0.0, -0.07744300365447998], [0, 0.52645355679449579, -0.1192002147436142], [0.59999999999999998, 0.50540431862205148, -0.08884061127901077], [0.59999999999999998, 0.0, -0.06853415071964264], [0, 0.5042875218584939, -0.08100447803735733], [0.59999999999999998, 0.0, -0.06112344563007355], [0.59999999999999998, 0.52803607525828078, -0.1299685537815094], [0.59999999999999998, 0.0, 0.03769988194108009], [0.59999999999999998, 0.51615609781889171, -0.10337700694799423], [0.59999999999999998, 0.0, -0.04181232303380966], [0, 0.0, -0.04978170990943909], [0.59999999999999998, 0.0, -0.04966442659497261], [0, 0.53290068958422321, -0.11287377029657364], [0, 0.50787453129565041, -0.41496118903160095], [0.59999999999999998, 0.0, -0.3750755488872528], [0.59999999999999998, 0.0, -0.18145567178726196], [0.59999999999999998, 0.0, -0.1504550725221634], [0.37384803005972117, 0.0, -0.16672839224338531], [0.59999999999999998, 0.0, -0.13668018579483032], [0, 0.0, -0.16566994786262512], [0.59999999999999998, 0.0, -0.16439339518547058], [0.59999999999999998, 0.0, -0.19793805480003357], [0, 0.0, -0.1135810911655426], [0.59999999999999998, 0.0, -0.11239990592002869], [0, 0.0, -0.1454792469739914], [0.59999999999999998, 0.0, -0.1441521942615509], [0.39058264370016521, 0.0, -0.12300469726324081], [0, 0.0, -0.11434601992368698], [0.59999999999999998, 0.0, -0.11292283236980438], [0, 0.0, -0.10479264706373215], [0.59999999999999998, 0.0, -0.10333459824323654], [0.59999999999999998, 0.0, -0.05800776556134224], [0, 0.0, -0.09662795066833496], [0.59999999999999998, 0.0, -0.09496485441923141], [0, 0.0, -0.1472177654504776], [0.59999999999999998, 0.0, -0.14583799242973328], [0.59999999999999998, 0.0, -0.12397070229053497], [0.59999999999999998, 0.0, -0.00131092534866184], [0, 0.0, -0.10747979581356049], [0.59999999999999998, 0.0, -0.10564304888248444], [0, 0.0, -0.05898289009928703], [0.59999999999999998, 0.0, -0.0574004240334034], [0.33998485580899235, 0.0, -0.10280667990446091], [0, 0.0, -0.04808623716235161], [0.59999999999999998, 0.0, -0.0465744212269783], [0, 0.0, 0.0408475399017334], [0.59999999999999998, 0.0, 0.04275090992450714], [0, 0.0, -0.07633381336927414], [0.59999999999999998, 0.0, -0.07450477033853531], [0.59999999999999998, 0.0, -0.0286951195448637], [0.55508539648801125, 0.0, 0.007190365344285965], [0, 0.0, -0.07277093082666397], [0.59999999999999998, 0.0, -0.07104058563709259], [0.59999999999999998, 0.0, -0.09819576889276505], [0.59999999999999998, 0.0, -0.08857759833335876], [0.59999999999999998, 0.0, -0.11151310801506042], [0, 0.0, -0.10273099690675735], [0.37650879901470269, 0.0, -0.10150899738073349], [0.37782943319488282, 0.0, -0.08519700169563293], [0.59999999999999998, 0.0, 0.0071813431568443775], [0.59999999999999998, 0.0, 0.024682005867362022], [0, 0.0, 0.10210057348012924], [0.59999999999999998, 0.0, 0.10419569164514542], [0.37778629239924849, 0.0, 0.09676733613014221], [0.59999999999999998, 0.0, 0.1031293198466301], [0, 0.0, 0.012626977637410164], [0.59999999999999998, 0.0, 0.014672591350972652], [0.46652327973014618, 0.0, 0.06416118890047073], [0.58826818285500415, 0.0, 0.12819865345954895], [0, 0.0, 0.17374591529369354], [0, 0.0, 0.17622660100460052], [0.59999999999999998, 0.0, 0.17882384359836578], [0, 0.0, 0.18065212666988373], [0.59999999999999998, 0.0, 0.18320150673389435], [0.59999999999999998, 0.0, 0.1849817931652069], [0.46094026145133615, 0.0, 0.10651378333568573], [0, 0.0, 0.1633511632680893], [0.59999999999999998, 0.0, 0.16545985639095306], [0, 0.0, 0.010158298537135124], [0.46432231257330564, 0.0, 0.012061752378940582], [0, 0.0, -0.033869557082653046], [0.59999999999999998, 0.0, -0.032502513378858566], [0, 0.0, 0.051233358681201935], [0.59999999999999998, 0.0, 0.05263706296682358], [0, 0.0, -0.031779251992702484], [0.53947940692240504, 0.0, -0.03042980283498764], [0.46623959382228164, 0.0, -0.037405189126729965], [0.32056526974709826, 0.0, 0.026339678093791008], [0.59999999999999998, 0.0, 0.014864033088088036], [0.59999999999999998, 0.0, 0.024571478366851807], [0, 0.0, 0.09216420352458954], [0.59999999999999998, 0.0, 0.09368222206830978], [0, 0.0, 0.12577272951602936], [0, 0.0, 0.12749889492988586], [0.59999999999999998, 0.0, 0.12935799360275269], [0, 0.0, 0.13929690420627594], [0.59999999999999998, 0.0, 0.14111922681331635], [0.38144585777942702, 0.0, 0.11097236722707748], [0, 0.0, 0.04188110679388046], [0.59999999999999998, 0.0, 0.04328645393252373], [0.59999999999999998, 0.0, 0.11561319977045059], [0, 0.0, 0.1291213035583496], [0.59999999999999998, 0.0, 0.13078643381595612], [0, 0.0, 0.18531323969364166], [0.59999999999999998, 0.0, 0.18705983459949493], [0, 0.0, 0.07037520408630371], [0.59999999999999998, 0.0, 0.07192511111497879], [0.57738489743029342, 0.0, 0.03719675913453102], [0, 0.0, -0.024311557412147522], [0.59999999999999998, 0.0, -0.02355537749826908], [0, 0.0, 0.06854742765426636], [0.59999999999999998, 0.0, 0.06940416991710663], [0.59999999999999998, 0.0, 0.17272481322288513], [0, 0.0, 0.14328113198280334], [0.59999999999999998, 0.0, 0.14490100741386414], [0, 0.0, 0.2502308189868927], [0.59999999999999998, 0.0, 0.251891553401947], [0, 0.0, 0.1026977002620697], [0.51632549778728209, 0.0, 0.10419812798500061], [0, 0.0, 0.20527046918869019], [0.59999999999999998, 0.0, 0.20662815868854523], [0.59321332266857962, 0.0, 0.25441107153892517], [0, 0.0, 0.1916818767786026], [0.46621661934155001, 0.0, 0.1933593600988388], [0, 0.0, 0.14835484325885773], [0.58912228709684344, 0.0, 0.1496569961309433], [0.42785624412175816, 0.0, 0.19799955189228058], [0.50663356531246895, 0.51868034636303462, 0.24492117762565613], [0.40550010534902176, 0.5006856474989938, 0.19953486323356628], [0.34356948850311042, 0.0, 0.18908391892910004], [0.3757473160099335, 0.0, 0.11588748544454575], [0.53570964113353448, 0.0, 0.11677414923906326], [0, 0.0, 0.10286347568035126], [0.59999999999999998, 0.0, 0.10365065187215805], [0, 0.50897264739651704, 0.12308366596698761], [0.59999999999999998, 0.0, 0.10242468118667603], [0, 0.0, 0.06918801367282867], [0.37342919315816703, 0.0, 0.06971196085214615], [0.36605274306305119, 0.0, 0.04851967841386795], [0, 0.0, 0.025687700137495995], [0.59999999999999998, 0.0, 0.025889970362186432], [0, 0.52644397827582945, 0.07431814819574356], [0.48168175134394342, 0.50430353358258939, 0.04364977777004242], [0, 0.0, -0.030995864421129227], [0.59999999999999998, 0.0, -0.031006650999188423], [0, 0.51791353813497532, 0.05386803671717644], [0.59999999999999998, 0.50164910975601762, 0.03233778476715088], [0.37847651927303921, 0.5343944294692633, 0.09248367697000504], [0.57809704881068558, 0.52094560781082544, 0.07423749566078186], [0, 0.50149029643004728, 0.018565557897090912], [0.39536245600648595, 0.0, -0.017898835241794586], [0.47071282292719696, 0.0, 0.02620902843773365], [0.41602442449530946, 0.55638229586732335, 0.13223065435886383], [0.38085004023406682, 0.5298585687339048, 0.08040526509284973], [0.47289973636125043, 0.55132738013933236, 0.12882423400878906], [0, 0.50650406401418957, 0.024722686037421227], [0.43906430995240731, 0.0, -0.0049460409209132195], [0, 0.54518729356524753, 0.0996415913105011], [0.51855325995525658, 0.52116260655772639, 0.0666298121213913], [0.444450956684662, 0.54502088930441706, 0.11707068979740143], [0, 0.51016619634544447, 0.04321398586034775], [0.59999999999999998, 0.0, 0.019479980692267418], [0, 0.56008122970531504, 0.12845571339130402], [0.47218305999677668, 0.53783137466742359, 0.09725161641836166], [0.38253615873840063, 0.5272437816438994, 0.06929215788841248], [0.3428002557257292, 0.55004036409256263, 0.11828018724918365], [0.39824554784226435, 0.52735884313653036, 0.07429337501525879], [0.51642817186622159, 0.0, -0.01407462265342474], [0.4431934888792361, 0.55261705717225096, 0.11917358636856079], [0.45621128115215515, 0.50577408580375571, 0.024158041924238205], [0.43392968122925069, 0.5321537207731436, 0.07552330195903778], [0, 0.53651576768139231, 0.07813076674938202], [0.4601080655780409, 0.50978260083277249, 0.040180694311857224], [0.52505662880236781, 0.0, 0.010501150973141193], [0.47858995738677368, 0.55774738668363333, 0.13064223527908325], [0, 0.55837463132230758, 0.1266607791185379], [0.46981015500236989, 0.53801653604938349, 0.09609329700469971], [0.36939754180163653, 0.56977851090880183, 0.163620263338089], [0.44918007109757752, 0.55193825385658246, 0.12954439222812653], [0.40367447529090816, 0.51133272115125017, 0.04127652570605278], [0.45924067635424859, 0.50566921329730519, 0.03139077499508858], [0, 0.50714560760338334, 0.02468223311007023], [0.49166121301428334, 0.0, -0.009209285490214825], [0.38913618722189386, 0.0, -0.019579121842980385], [0.3792311109533304, 0.52483502284466454, 0.05594702437520027], [0.33510313994965146, 0.50658554736621597, 0.025200191885232925], [0, 0.52616208967482625, 0.06167388707399368], [0.49830114247287571, 0.50664023514820911, 0.03533076122403145], [0, 0.54596182912910662, 0.10971806198358536], [0.49676260778240355, 0.52329887243253848, 0.07815684378147125], [0.3568326336806607, 0.57132384930467184, 0.16858859360218048], [0.32441809940378735, 0.56666437627562205, 0.16312462091445923], [0.41368531633817257, 0.56266319295544642, 0.15659736096858978], [0, 0.57595040874821801, 0.17578324675559998], [0.48209467487577351, 0.55884724354073079, 0.1491091102361679], [0.46323146511088947, 0.58568623114586904, 0.19754037261009216], [0.36745966609115527, 0.55216598199946554, 0.12472379952669144], [0.37122169067154365, 0.56984955169808815, 0.15871302783489227], [0.35141591494530849, 0.52121700740995869, 0.059739697724580765], [0.38978594101405734, 0.53995791427887885, 0.10223211348056793], [0.44484441005724412, 0.51592408204943074, 0.05678210407495499], [0.35002625278462346, 0.52661634483443198, 0.07145412266254425], [0.31347772770612869, 0.50512494927538287, 0.029090596362948418], [0, 0.50144188719418603, 0.18130895495414734], [0.42349908077496834, 0.0, 0.16013193130493164], [0, 0.5165912250100404, 0.20158271491527557], [0.43101771682155149, 0.0, 0.1784256100654602], [0.32402448105335441, 0.50859427093596743, 0.1712474673986435], [0.33294466396526073, 0.0, 0.12121787667274475], [0.33685759656114928, 0.52042119899579209, 0.18914081156253815], [0, 0.0, 0.10444962233304977], [0.41945402313693064, 0.0, 0.1044321358203888], [0.4334223816780105, 0.0, 0.07977068424224854], [0.39276411604542227, 0.0, 0.07158497720956802], [0.38361759419521319, 0.0, 0.029706642031669617], [0.40548984493994583, 0.0, 0.009575599804520607], [0.43270616934961026, 0.51051749629827292, 0.10635024309158325], [0.40232773620503431, 0.53166812112821005, 0.15321868658065796], [0.32476506828280877, 0.54721939197753544, 0.1872679740190506], [0.34681337660150696, 0.5073602362551215, 0.10146695375442505], [0.38552636349955122, 0.0, 0.02581789530813694], [0.35961589379371034, 0.50016290574685329, 0.08390860259532928], [0.32160721294625283, 0.50779499727539168, 0.10238002240657806], [0, 0.0, 0.06731323152780533], [0.41229330670495151, 0.0, 0.06691330671310425], [0.30587381163057198, 0.53943085821329317, 0.15436021983623505], [0.34882423376118099, 0.52375553970406585, 0.1323050856590271], [0.30797442759572635, 0.0, 0.05078975483775139], [0.33993412498655717, 0.50856794900385838, 0.08225897699594498], [0.36821947329797816, 0.0, 0.016601672396063805], [0.34149689929777605, 0.0, 0.011395116336643696], [0, 0.0, 0.012089807540178299], [0.43672557939728102, 0.0, 0.011339829303324223], [0.42493575866925548, 0.0, 0.02956998534500599], [0.43061227852484579, 0.51493897799160571, 0.06787966936826706], [0.47520106954152297, 0.52205104130558122, 0.004736148752272129], [0.30434951117043169, 0.54001570817067002, 0.03942137584090233], [0.38859515607561107, 0.53381424021298363, 0.03844430670142174], [0.4192654677990334, 0.0, -0.025481052696704865], [0.45207483069761956, 0.0, -0.048507314175367355], [0, 0.58070088094253558, 0.12151950597763062], [0.47337865900246334, 0.55336454305443028, 0.08542119711637497], [0, 0.59786971289874158, 0.1685333549976349], [0.45728739393028722, 0.5686812532928599, 0.12786680459976196], [0.35236087867463367, 0.59853102596291208, 0.18205669522285461], [0.39899732926358306, 0.59245601977233764, 0.1737077236175537], [0.39238315781608429, 0.56237383836920651, 0.11465584486722946], [0.32527139925725879, 0.53164534318272938, 0.046398330479860306], [0.4257040435472359, 0.52568898878354597, 0.04258933290839195], [0.35918327386124116, 0.50678593899135471, 0.0075123668648302555], [0.31238007802477746, 0.53270256885734601, 0.0617196261882782], [0.34920295501473581, 0.52832464438875204, 0.05960748344659805], [0, 0.0, -0.0014151254436001182], [0.52223240862615794, 0.0, -0.0015659533673897386], [0.52538347796635632, 0.56370433854205271, 0.1295740306377411], [0.41825199256352213, 0.53277711889323531, 0.06532041728496552], [0.30883071659388772, 0.52740003337898167, 0.049844738095998764], [0.35472714008749934, 0.52575284158399738, 0.05895677208900452], [0.4326388089613486, 0.53825032383526039, 0.09071097522974014], [0.44156556334385749, 0.55758589433320682, 0.1374521255493164], [0, 0.58399434882454027, 0.184869185090065], [0.54975606567551449, 0.5566457843903081, 0.14510561525821686], [0.4696661711582914, 0.57864316099391866, 0.18314595520496368], [0, 0.53293929487112024, 0.08173307031393051], [0.54697272389009544, 0.50758460539750927, 0.04540436714887619], [0.53431939016818852, 0.55215819578150138, 0.14217215776443481], [0.35605752162873228, 0.53786209362345327, 0.10727885365486145], [0.46871457234495884, 0.50186231320143326, 0.03652038425207138], [0.4733032494761194, 0.5368289491024627, 0.11039486527442932], [0.44419300548906759, 0.0, 0.031238187104463577], [0.41545713543685076, 0.53306152320366151, 0.09406115859746933], [0.50037423956057703, 0.52495135495705258, 0.08086582273244858], [0.48876646407383911, 0.0, -0.006217834074050188], [0.49348343347628543, 0.0, -0.001413210527971387], [0.32304739396548082, 0.55183101546906288, 0.11482160538434982], [0, 0.56837632579204844, 0.15210360288619995], [0.59999999999999998, 0.54364186859363084, 0.11648314446210861], [0, 0.52931020259615269, 0.06903216987848282], [0.54969370685525931, 0.51169202126602908, 0.04482835531234741], [0, 0.55268996416941873, 0.11527405679225922], [0.41551770251395392, 0.52918161353926885, 0.08314454555511475], [0, 0.54539080785401972, 0.10921277105808258], [0.4505772791812816, 0.52096364986135335, 0.07559323310852051], [0.38599522158944899, 0.0, 0.020584531128406525], [0.40653469036760265, 0.51902935776956294, 0.06523565948009491], [0, 0.54498655209358127, 0.11863605678081512], [0.52518823635872236, 0.52436958039219772, 0.08991176635026932], [0, 0.57346822528095986, 0.17389781773090363], [0.43716713807203783, 0.54428382019975996, 0.13279268145561218], [0, 0.57084607284951516, 0.17541466653347015], [0.44702348863975577, 0.54991400651730504, 0.1451059728860855], [0.3256276449178197, 0.55933418990858708, 0.15930922329425812], [0, 0.56091846374722265, 0.1636533886194229], [0.59999999999999998, 0.5403633233259767, 0.13320514559745789], [0.59999999999999998, 0.0, 0.038192473351955414], [0, 0.50927581737733163, 0.042205844074487686], [0.53387903386739455, 0.0, 0.017369845882058144], [0.52189693517227387, 0.0, -0.030422095209360123], [0.55145663376827569, 0.5203550840636062, 0.0622803196310997], [0.49324745723088709, 0.52011232196534807, 0.062023013830184937], [0, 0.54041272132105123, 0.09537496417760849], [0.53238680782504233, 0.51908833773395457, 0.06648160517215729], [0.31243671599153028, 0.52870928564629005, 0.08204808086156845], [0, 0.54610732391347627, 0.12027101963758469], [0.5992814136286102, 0.51763666461685509, 0.08062054216861725], [0, 0.56833492029667942, 0.17519019544124603], [0.59999999999999998, 0.55174476653208471, 0.15141960978507996], [0.56664342128225154, 0.56613168911371403, 0.1834190934896469], [0.30747269411904787, 0.5489265525508753, 0.13956429064273834], [0.34727439939117427, 0.54064310557785489, 0.12108299136161804], [0, 0.53772268559316028, 0.11243806034326553], [0.59999999999999998, 0.52013772208453268, 0.08745285868644714], [0, 0.5457917783780275, 0.11794903129339218], [0.40488241644726736, 0.52947163005089348, 0.09526577591896057], [0.39386383657405344, 0.54575469740734994, 0.12785384058952332], [0.40945689591208506, 0.54592690874552319, 0.1303800642490387], [0.36041150280493311, 0.51112296737319274, 0.054645467549562454], [0.48847631453763751, 0.52049608284422078, 0.07888280600309372], [0, 0.52974668200139874, 0.08652567863464355], [0.49586938256196561, 0.50531628923813177, 0.052957382053136826], [0, 0.55649443859274783, 0.14967080950737], [0.58422350621322983, 0.53513166258603451, 0.1199803501367569], [0, 0.56701471907493872, 0.18089082837104797], [0.59999999999999998, 0.54054150781719201, 0.14306628704071045], [0, 0.55936237166196223, 0.15991896390914917], [0.59999999999999998, 0.53928053687338695, 0.13090215623378754], [0, 0.54088212344553555, 0.11183575540781021], [0.54753133883686655, 0.5201997644915467, 0.0827542170882225], [0, 0.50061108143024502, 0.024966351687908173], [0.36895586252776763, 0.0, 0.002247445983812213], [0.39697783388893237, 0.52916835618838343, 0.09032977372407913], [0, 0.56619423529286406, 0.15973465144634247], [0.51433977362393068, 0.54526058515687015, 0.1296236366033554], [0, 0.58062084399260494, 0.18774399161338806], [0.30371920425212084, 0.55719193157695579, 0.1539304107427597], [0, 0.55546509407105904, 0.14352616667747498], [0.59999999999999998, 0.53911297058388263, 0.11969999969005585], [0.59999999999999998, 0.55967136433501263, 0.16309383511543274], [0.48411176298942704, 0.56553384340041646, 0.1734929382801056], [0.49626928764671674, 0.56351456578804815, 0.167123943567276], [0, 0.5501467037865353, 0.12491355091333389], [0.49283052327557347, 0.52699184054097592, 0.09171770513057709], [0.50995305302444127, 0.54112801526403009, 0.1180582270026207], [0.48360354369690939, 0.50602483889749228, 0.045220747590065], [0, 0.52386144592100159, 0.07860101014375687], [0.59999999999999998, 0.50013265194637435, 0.0471484400331974], [0, 0.58834748311347262, 0.2085190713405609], [0.30032504955941969, 0.55847037731569049, 0.16672122478485107], [0, 0.54604364273545547, 0.13361623883247375], [0.59999999999999998, 0.53144235687596464, 0.11221851408481598], [0.35179969264702116, 0.54880041113276501, 0.1389809399843216], [0.30182258449152694, 0.56609784075579073, 0.1756373792886734], [0, 0.54356599664920346, 0.11877669394016266], [0.59999999999999998, 0.51656946969851525, 0.08019591122865677], [0, 0.52702641536437334, 0.08162304759025574], [0.49840074179359167, 0.50388103885164903, 0.05011221393942833], [0, 0.0, 0.005164723377674818], [0.48625001492743136, 0.0, 0.005050108302384615], [0.48420370531497703, 0.5480675913877302, 0.11997213959693909], [0, 0.52794710820242441, 0.07516960054636002], [0.59999999999999998, 0.51315988956059588, 0.05435791611671448], [0, 0.56410101421725689, 0.14527583122253418], [0.59999999999999998, 0.53679325779150067, 0.10756812244653702], [0, 0.56316229990808475, 0.14879931509494781], [0.59999999999999998, 0.54434601351941314, 0.12236810475587845], [0, 0.57039582041950965, 0.15057605504989624], [0.51559028871253032, 0.55200978648804477, 0.12451111525297165], [0, 0.53922447312155586, 0.08332265913486481], [0.57701467745136292, 0.52161962156986341, 0.059198349714279175], [0, 0.52964992214542572, 0.0644400417804718], [0.51725964327701424, 0.50746499273627677, 0.035083234310150146], [0, 0.0, 0.1824372410774231], [0, 0.0, 0.1810409128665924], [0, 0.0, 0.1801999807357788], [0, 0.0, 0.17928679287433624], [0, 0.0, 0.1785026490688324], [0, 0.0, 0.17778579890727997], [0, 0.0, 0.1771446019411087], [0, 0.0, 0.17656958103179932], [0, 0.0, 0.17605485022068024], [0, 0.0, 0.17281503975391388], [0, 0.0, 0.16948868334293365], [0, 0.0, 0.1660727858543396], [0, 0.0, 0.16256651282310486], [0, 0.0, 0.15896815061569214], [0, 0.0, 0.15527616441249847], [0, 0.0, 0.15148895978927612], [0, 0.0, 0.14760468900203705], [0, 0.0, 0.14362162351608276], [0, 0.0, 0.13953806459903717], [0, 0.0, 0.13535256683826447], [0, 0.0, 0.13106299936771393], [0, 0.0, 0.1266673505306244], [0, 0.0, 0.12216375023126602], [0, 0.0, 0.11755038797855377], [0, 0.0, 0.11282528191804886], [0, 0.0, 0.10798613727092743], [0, 0.0, 0.10303091257810593], [0, 0.0, 0.09795762598514557], [0, 0.0, 0.09276353567838669], [0, 0.0, 0.08744708448648453], [0, 0.0, 0.08200547099113464], [0, 0.0, 0.07643656432628632], [0, 0.0, 0.07073796540498734], [0, 0.0, 0.06490714102983475], [0, 0.0, 0.05894159525632858], [0, 0.0, 0.05283872410655022], [0, 0.0, 0.04659600183367729], [0, 0.0, 0.040210578590631485]]]"
   ]
  },
  {
   "cell_type": "code",
   "execution_count": 159,
   "metadata": {
    "collapsed": true
   },
   "outputs": [],
   "source": [
    "action_history_matrix = np.matrix(action_history[0])"
   ]
  },
  {
   "cell_type": "code",
   "execution_count": 161,
   "metadata": {
    "collapsed": false
   },
   "outputs": [
    {
     "data": {
      "text/plain": [
       "515"
      ]
     },
     "execution_count": 161,
     "metadata": {},
     "output_type": "execute_result"
    }
   ],
   "source": [
    "len(action_history_matrix)"
   ]
  },
  {
   "cell_type": "code",
   "execution_count": 170,
   "metadata": {
    "collapsed": false
   },
   "outputs": [
    {
     "data": {
      "text/plain": [
       "199"
      ]
     },
     "execution_count": 170,
     "metadata": {},
     "output_type": "execute_result"
    }
   ],
   "source": [
    "action_history_matrix[np.where(action_history_matrix[:,1] > 0)].size"
   ]
  },
  {
   "cell_type": "code",
   "execution_count": 171,
   "metadata": {
    "collapsed": false
   },
   "outputs": [
    {
     "data": {
      "text/plain": [
       "353"
      ]
     },
     "execution_count": 171,
     "metadata": {},
     "output_type": "execute_result"
    }
   ],
   "source": [
    "action_history_matrix[np.where(action_history_matrix[:,0] > 0)].size"
   ]
  },
  {
   "cell_type": "code",
   "execution_count": 172,
   "metadata": {
    "collapsed": false
   },
   "outputs": [
    {
     "data": {
      "text/plain": [
       "368"
      ]
     },
     "execution_count": 172,
     "metadata": {},
     "output_type": "execute_result"
    }
   ],
   "source": [
    "action_history_matrix[np.where(action_history_matrix[:,2] > 0)].size"
   ]
  },
  {
   "cell_type": "code",
   "execution_count": 173,
   "metadata": {
    "collapsed": false
   },
   "outputs": [
    {
     "data": {
      "text/plain": [
       "0"
      ]
     },
     "execution_count": 173,
     "metadata": {},
     "output_type": "execute_result"
    }
   ],
   "source": [
    "action_history_matrix[np.where(action_history_matrix[:,1] < 0)].size"
   ]
  },
  {
   "cell_type": "code",
   "execution_count": 195,
   "metadata": {
    "collapsed": true
   },
   "outputs": [],
   "source": [
    "def calculate_stats_percentages(action_history, psi_degree_threshold=3):\n",
    "    action_history = np.matrix(action_history)\n",
    "    number_of_iterations = len(action_history)\n",
    "    Fe_percentage = action_history[np.where(action_history[:, 0] > 0)].size/number_of_iterations\n",
    "    Fs_left_percentage = action_history[np.where(action_history[:, 1] > 0)].size / number_of_iterations\n",
    "    Fs_right_percentage = action_history[np.where(action_history[:, 1] < 0)].size / number_of_iterations\n",
    "    psi_percentage = action_history[np.where((action_history[:, 2] < -psi_degree_threshold*DEGTORAD) | (action_history[:, 2] > psi_degree_threshold*DEGTORAD))].size / number_of_iterations\n",
    "    \n",
    "    return [Fe_percentage, Fs_left_percentage, Fs_right_percentage, psi_percentage]"
   ]
  },
  {
   "cell_type": "code",
   "execution_count": 196,
   "metadata": {
    "collapsed": false
   },
   "outputs": [
    {
     "data": {
      "text/plain": [
       "[0.6854368932038835, 0.3864077669902913, 0.0, 0.7475728155339806]"
      ]
     },
     "execution_count": 196,
     "metadata": {},
     "output_type": "execute_result"
    }
   ],
   "source": [
    "calculate_stats_percentages(action_history[0])"
   ]
  },
  {
   "cell_type": "markdown",
   "metadata": {},
   "source": [
    "# Loading and Displaying"
   ]
  },
  {
   "cell_type": "code",
   "execution_count": 248,
   "metadata": {
    "collapsed": true
   },
   "outputs": [],
   "source": [
    "action_history = np.load('C://Users//REUBS_LEN//PycharmProjects//RocketLanding//rl_and_control//simulation_results//pid//action_history.npy')"
   ]
  },
  {
   "cell_type": "code",
   "execution_count": 268,
   "metadata": {
    "collapsed": false
   },
   "outputs": [
    {
     "data": {
      "text/plain": [
       "[<matplotlib.lines.Line2D at 0x1fa389ac1d0>,\n",
       " <matplotlib.lines.Line2D at 0x1fa389a8da0>,\n",
       " <matplotlib.lines.Line2D at 0x1fa389a82e8>]"
      ]
     },
     "execution_count": 268,
     "metadata": {},
     "output_type": "execute_result"
    },
    {
     "data": {
      "image/png": "[encoded data removed]",
      "text/plain": [
       "<matplotlib.figure.Figure at 0x1fa38934b00>"
      ]
     },
     "metadata": {},
     "output_type": "display_data"
    },
    {
     "data": {
      "image/png": "[encoded data removed]",
      "text/plain": [
       "<matplotlib.figure.Figure at 0x1fa387a1278>"
      ]
     },
     "metadata": {},
     "output_type": "display_data"
    }
   ],
   "source": [
    "%matplotlib inline\n",
    "\n",
    "plt.plot(action_history[0][:400])\n",
    "\n",
    "plt.figure()\n",
    "plt.plot(action_history[18][:400])\n",
    "plt.legend()"
   ]
  },
  {
   "cell_type": "code",
   "execution_count": 243,
   "metadata": {
    "collapsed": true
   },
   "outputs": [],
   "source": [
    "from rl_and_control.simulation_results.evaluation import calculate_stats_percentages"
   ]
  },
  {
   "cell_type": "code",
   "execution_count": 247,
   "metadata": {
    "collapsed": false
   },
   "outputs": [
    {
     "name": "stdout",
     "output_type": "stream",
     "text": [
      "Fe\tFl\tFr\t|psi| > 3\n",
      "0.3751425313568985\t0.005701254275940707\t0.0068415051311288486\t0.38426453819840367\n",
      "0.4750778816199377\t0.16978193146417445\t0.0\t0.38006230529595014\n",
      "0.6076233183856502\t0.02914798206278027\t0.0\t0.5201793721973094\n",
      "0.300820419325433\t0.3473108477666363\t0.0\t0.45214220601640837\n",
      "0.4082352941176471\t0.06705882352941177\t0.06823529411764706\t0.3835294117647059\n",
      "0.3814814814814815\t0.0\t0.06049382716049383\t0.4074074074074074\n",
      "0.5929752066115702\t0.38636363636363635\t0.0\t0.4855371900826446\n",
      "0.7089397089397089\t0.10810810810810811\t0.07692307692307693\t0.5550935550935551\n",
      "0.6452762923351159\t0.9768270944741533\t0.0\t0.750445632798574\n",
      "0.3500557413600892\t0.16722408026755853\t0.0\t0.46265328874024525\n",
      "0.37058823529411766\t0.0\t0.09607843137254903\t0.3176470588235294\n",
      "0.3810344827586207\t0.20517241379310344\t0.0\t0.30517241379310345\n",
      "0.36069651741293535\t0.009950248756218905\t0.06965174129353234\t0.38308457711442784\n",
      "0.5663265306122449\t0.5892857142857143\t0.0\t0.5663265306122449\n",
      "0.33952702702702703\t0.03209459459459459\t0.0\t0.2668918918918919\n",
      "0.6378378378378379\t0.4540540540540541\t0.0\t0.4072072072072072\n",
      "0.5796387520525451\t0.8768472906403941\t0.0\t0.819376026272578\n",
      "0.399284862932062\t0.03933253873659118\t0.14898688915375446\t0.3766388557806913\n",
      "0.7057728119180633\t0.0\t0.0\t0.40037243947858475\n",
      "0.40389016018306634\t0.06064073226544622\t0.0\t0.2906178489702517\n",
      "0.33924843423799583\t0.0\t0.12004175365344467\t0.35803757828810023\n",
      "0.40720524017467247\t0.0\t0.002183406113537118\t0.2740174672489083\n",
      "0.40789473684210525\t0.11842105263157894\t0.005263157894736842\t0.3631578947368421\n",
      "0.4033214709371293\t0.0\t0.08422301304863583\t0.36180308422301305\n"
     ]
    }
   ],
   "source": [
    "print(\"Fe\\tFl\\tFr\\t|psi| > 3\")\n",
    "for i in range(len(action_history)):\n",
    "    Fe, Fl, Fr, psi_percentage = calculate_stats_percentages(action_history[i])\n",
    "    print(\"{0}\\t{1}\\t{2}\\t{3}\".format(Fe,Fl,Fr,psi_percentage))"
   ]
  },
  {
   "cell_type": "code",
   "execution_count": 311,
   "metadata": {
    "collapsed": true
   },
   "outputs": [],
   "source": [
    "from plotting.plotty import *\n",
    "\n",
    "def add_legend(name_of_data):\n",
    "    plt.legend(name_of_data)"
   ]
  },
  {
   "cell_type": "code",
   "execution_count": 313,
   "metadata": {
    "collapsed": false
   },
   "outputs": [
    {
     "data": {
      "image/png": "[encoded data removed]",
      "text/plain": [
       "<matplotlib.figure.Figure at 0x1fa42f4a2b0>"
      ]
     },
     "metadata": {},
     "output_type": "display_data"
    }
   ],
   "source": [
    "res = Graphing()\n",
    "fig = res.createFig()\n",
    "\n",
    "ax = res.addsubplot(fig, 211, \"Iteration\", \"Control Actions\")\n",
    "res.addTitle('Control Actions vs. Iteration Number')\n",
    "\n",
    "res.plotGraph(None, action_history[0][:400], ax)\n",
    "add_legend(['Fe', 'Fs', 'Psi'])\n",
    "\n",
    "plt.show()"
   ]
  },
  {
   "cell_type": "markdown",
   "metadata": {},
   "source": [
    "# Trajectory"
   ]
  },
  {
   "cell_type": "code",
   "execution_count": 440,
   "metadata": {
    "collapsed": true
   },
   "outputs": [],
   "source": [
    "from rl_and_control.simulation_results.evaluation import *"
   ]
  },
  {
   "cell_type": "code",
   "execution_count": 441,
   "metadata": {
    "collapsed": false
   },
   "outputs": [
    {
     "ename": "NameError",
     "evalue": "name 'load_numpy_files' is not defined",
     "output_type": "error",
     "traceback": [
      "\u001b[1;31m---------------------------------------------------------------------------\u001b[0m",
      "\u001b[1;31mNameError\u001b[0m                                 Traceback (most recent call last)",
      "\u001b[1;32m<ipython-input-441-1464efe26b3b>\u001b[0m in \u001b[0;36m<module>\u001b[1;34m()\u001b[0m\n\u001b[0;32m      1\u001b[0m \u001b[0mload_path\u001b[0m \u001b[1;33m=\u001b[0m \u001b[1;34m'C://Users//REUBS_LEN//PycharmProjects//RocketLanding//rl_and_control//simulation_results//rl_q_learning//high_discretization_longer_state//final_state_history.npy'\u001b[0m\u001b[1;33m\u001b[0m\u001b[0m\n\u001b[1;32m----> 2\u001b[1;33m \u001b[0mstate_history\u001b[0m \u001b[1;33m=\u001b[0m \u001b[0mload_numpy_files\u001b[0m\u001b[1;33m(\u001b[0m\u001b[0mload_path\u001b[0m\u001b[1;33m)\u001b[0m\u001b[1;33m\u001b[0m\u001b[0m\n\u001b[0m",
      "\u001b[1;31mNameError\u001b[0m: name 'load_numpy_files' is not defined"
     ]
    }
   ],
   "source": [
    "load_path = 'C://Users//REUBS_LEN//PycharmProjects//RocketLanding//rl_and_control//simulation_results//rl_q_learning//high_discretization_longer_state//final_state_history.npy'\n",
    "state_history = load_numpy_files(load_path)"
   ]
  },
  {
   "cell_type": "markdown",
   "metadata": {},
   "source": [
    "# Multiple Inheritance Testing"
   ]
  },
  {
   "cell_type": "code",
   "execution_count": 417,
   "metadata": {
    "collapsed": true
   },
   "outputs": [],
   "source": [
    "class First(object):\n",
    "    def __init__(self, x):\n",
    "        #super(First, self).__init__(x) # If there is a call from a class e.g. Third(First, Second), Second will be called first.\n",
    "        # Specifically, the __init__ will be called since First includes super(...). If super(...) is removed, Second will \n",
    "        # still be inherited, but the __init__ function will not be called.\n",
    "        print(\"{0} printed from First\".format(x))\n",
    "        print(\"first\")\n",
    "\n",
    "class Second(object):\n",
    "    def __init__(self, y):\n",
    "        #super(Second, self).__init__() # If Third(First, Second) is called and Second includes super(Second, self).__init__(y)\n",
    "        # An error will pop up since Second is inherited from object, and by default object has no parameter y.\n",
    "        # On the other hand, if First has a parameter y and Third(Second, First) is called, if Second doesn't include\n",
    "        # super(Second, self).__init__(y) an error will result too since First expects a parameter.\n",
    "        print(\"{0} printed from Second\".format(y))\n",
    "        print(\"second\")\n",
    "        self.y = y\n",
    "        \n",
    "    def print_class(self):\n",
    "        print(\"This is the second printing {0}\".format(self.y))\n",
    "    \n",
    "class Second_Mod(First):\n",
    "    def __init__(self, x):\n",
    "        super(Second_Mod, self).__init__(x)\n",
    "        print(\"{0} printed from Second Mod\".format(x))\n",
    "        print(\"second\")\n",
    "\n",
    "class Third_Mod(Second_Mod):\n",
    "    def __init__(self, x):\n",
    "        super(Third, self).__init__(x)\n",
    "        print(\"{0} printed from Third Mod\".format(x))\n",
    "        print(\"that's it\")\n",
    "        \n",
    "class Third(First, Second):\n",
    "    def __init__(self, x):\n",
    "        super(Third, self).__init__(x)\n",
    "        print(\"{0} printed from Third\".format(x))\n",
    "        print(\"that's it\")"
   ]
  },
  {
   "cell_type": "code",
   "execution_count": 418,
   "metadata": {
    "collapsed": false
   },
   "outputs": [
    {
     "name": "stdout",
     "output_type": "stream",
     "text": [
      "3 printed from Second\n",
      "second\n",
      "3 printed from Third\n",
      "that's it\n"
     ]
    }
   ],
   "source": [
    "x = Third(3)"
   ]
  },
  {
   "cell_type": "code",
   "execution_count": 399,
   "metadata": {
    "collapsed": false
   },
   "outputs": [
    {
     "name": "stdout",
     "output_type": "stream",
     "text": [
      "This is the second printing 3\n"
     ]
    }
   ],
   "source": [
    "x.print_class()"
   ]
  },
  {
   "cell_type": "code",
   "execution_count": 412,
   "metadata": {
    "collapsed": true
   },
   "outputs": [],
   "source": [
    "class First(object):\n",
    "    def __init__(self, *args, **kwargs):\n",
    "        super(First, self).__init__(*args, **kwargs)\n",
    "        print(\"first\")\n",
    "\n",
    "class Second(object):\n",
    "    def __init__(self, *args, **kwargs):\n",
    "        super(Second, self).__init__(*args, **kwargs)\n",
    "        print(\"second\")\n",
    "        self.y = args[0]\n",
    "        \n",
    "    def print_class(self):\n",
    "        print(\"This is the second printing {0}\".format(self.y))\n",
    "    \n",
    "class Third(First, Second):\n",
    "    def __init__(self, *args, **kwargs):\n",
    "        super(Third, self).__init__(*args, **kwargs)\n",
    "        print(\"that's it\")"
   ]
  },
  {
   "cell_type": "code",
   "execution_count": 427,
   "metadata": {
    "collapsed": false
   },
   "outputs": [
    {
     "name": "stdout",
     "output_type": "stream",
     "text": [
      "<__main__.Third object at 0x000001FA43116438> printed from Second\n",
      "second\n",
      "<__main__.Third object at 0x000001FA43116438> printed from Third\n",
      "that's it\n"
     ]
    }
   ],
   "source": [
    "x = Third(x)"
   ]
  },
  {
   "cell_type": "code",
   "execution_count": 408,
   "metadata": {
    "collapsed": false
   },
   "outputs": [
    {
     "name": "stdout",
     "output_type": "stream",
     "text": [
      "This is the second printing 3\n"
     ]
    }
   ],
   "source": [
    "x.print_class()"
   ]
  },
  {
   "cell_type": "code",
   "execution_count": 424,
   "metadata": {
    "collapsed": true
   },
   "outputs": [],
   "source": [
    "arr = [1,1,0,1,1,1,1,1,1,1,1,1,1,1,1,1,1,1,-1,1,1,1,1,1]"
   ]
  },
  {
   "cell_type": "code",
   "execution_count": 425,
   "metadata": {
    "collapsed": false
   },
   "outputs": [
    {
     "data": {
      "text/plain": [
       "0.43898557303553082"
      ]
     },
     "execution_count": 425,
     "metadata": {},
     "output_type": "execute_result"
    }
   ],
   "source": [
    "np.std(arr)"
   ]
  },
  {
   "cell_type": "code",
   "execution_count": 426,
   "metadata": {
    "collapsed": false
   },
   "outputs": [
    {
     "data": {
      "text/plain": [
       "24"
      ]
     },
     "execution_count": 426,
     "metadata": {},
     "output_type": "execute_result"
    }
   ],
   "source": [
    "len(arr)"
   ]
  },
  {
   "cell_type": "markdown",
   "metadata": {
    "collapsed": true
   },
   "source": [
    "# Instance"
   ]
  },
  {
   "cell_type": "code",
   "execution_count": 1,
   "metadata": {
    "collapsed": true
   },
   "outputs": [],
   "source": [
    "import numpy as np"
   ]
  },
  {
   "cell_type": "code",
   "execution_count": 3,
   "metadata": {
    "collapsed": false
   },
   "outputs": [],
   "source": [
    "a = np.array([0,0,0])\n",
    "b = np.array([[0,0,0], [0,0,0]])"
   ]
  },
  {
   "cell_type": "code",
   "execution_count": 4,
   "metadata": {
    "collapsed": false
   },
   "outputs": [
    {
     "data": {
      "text/plain": [
       "(3,)"
      ]
     },
     "execution_count": 4,
     "metadata": {},
     "output_type": "execute_result"
    }
   ],
   "source": [
    "a.shape"
   ]
  },
  {
   "cell_type": "code",
   "execution_count": 5,
   "metadata": {
    "collapsed": false
   },
   "outputs": [
    {
     "data": {
      "text/plain": [
       "(2, 3)"
      ]
     },
     "execution_count": 5,
     "metadata": {},
     "output_type": "execute_result"
    }
   ],
   "source": [
    "b.shape"
   ]
  },
  {
   "cell_type": "code",
   "execution_count": 6,
   "metadata": {
    "collapsed": true
   },
   "outputs": [],
   "source": [
    "c = [0,0,0]\n",
    "d = [[0,0,0],[0,0,0]]"
   ]
  },
  {
   "cell_type": "code",
   "execution_count": 7,
   "metadata": {
    "collapsed": false
   },
   "outputs": [
    {
     "data": {
      "text/plain": [
       "3"
      ]
     },
     "execution_count": 7,
     "metadata": {},
     "output_type": "execute_result"
    }
   ],
   "source": [
    "len(c)"
   ]
  },
  {
   "cell_type": "code",
   "execution_count": 8,
   "metadata": {
    "collapsed": false
   },
   "outputs": [
    {
     "data": {
      "text/plain": [
       "2"
      ]
     },
     "execution_count": 8,
     "metadata": {},
     "output_type": "execute_result"
    }
   ],
   "source": [
    "len(d)"
   ]
  },
  {
   "cell_type": "code",
   "execution_count": 14,
   "metadata": {
    "collapsed": false
   },
   "outputs": [
    {
     "data": {
      "text/plain": [
       "True"
      ]
     },
     "execution_count": 14,
     "metadata": {},
     "output_type": "execute_result"
    }
   ],
   "source": [
    "a.shape == (3,)"
   ]
  },
  {
   "cell_type": "code",
   "execution_count": null,
   "metadata": {
    "collapsed": true
   },
   "outputs": [],
   "source": []
  }
 ],
 "metadata": {
  "kernelspec": {
   "display_name": "Python [TensorFlow_3.5]",
   "language": "python",
   "name": "Python [TensorFlow_3.5]"
  },
  "language_info": {
   "codemirror_mode": {
    "name": "ipython",
    "version": 3
   },
   "file_extension": ".py",
   "mimetype": "text/x-python",
   "name": "python",
   "nbconvert_exporter": "python",
   "pygments_lexer": "ipython3",
   "version": "3.5.2"
  }
 },
 "nbformat": 4,
 "nbformat_minor": 1
}
